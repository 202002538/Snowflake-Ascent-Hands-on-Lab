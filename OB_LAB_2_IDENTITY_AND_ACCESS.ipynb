{
 "cells": [
  {
   "cell_type": "markdown",
   "id": "3775908f-ca36-4846-8f38-5adca39217f2",
   "metadata": {
    "collapsed": false,
    "name": "lab_2_identity_and_access"
   },
   "source": [
    "# Lab 2: Identity와 Access\n",
    "\n",
    "👉 이 수업에서는 Snowsight(Snowflake 웹 UI)를 사용하여 데이터베이스를 생성하고 데이터베이스, 스키마, 테이블과 같은 오브젝트에 대한 액세스를 관리하는 방법을 배우게 됩니다.\n",
    "\n",
    "먼저 이 실습 전반에 걸쳐 사용할 **컨텍스트 정보**를 가져오갰습니다. \n",
    "\n",
    "- **Start** 버튼을 클릭하여 이 노트북을 활성화합니다.\n",
    "\n",
    "- 아래 Python 셀을 실행합니다."
   ]
  },
  {
   "cell_type": "markdown",
   "id": "15838f1d-e21a-4747-be0c-0986b1e15bd3",
   "metadata": {
    "collapsed": false,
    "name": "cell2"
   },
   "source": [
    "#### :warning: 이 노트북에서 새 세션이 시작될 때마다, 이후 셀에서 사용할 \"변수\"를 설정하려면 아레 셀을 다시 실행해야 합니다. :warning:"
   ]
  },
  {
   "cell_type": "code",
   "execution_count": null,
   "id": "c070c7b1-3e12-4c8a-a3d7-a6babb1707fb",
   "metadata": {
    "collapsed": false,
    "language": "python",
    "name": "cell3"
   },
   "outputs": [],
   "source": [
    "import streamlit as st\n",
    "from snowflake.snowpark.context import get_active_session\n",
    "session = get_active_session()\n",
    "user = session.get_current_user().strip('\"')\n",
    "your_db = user + '_DB'\n",
    "print('Your current CONTEXT information:')\n",
    "print('---------------------------------')\n",
    "print(session)\n",
    "print('Your current USER is ' + user)"
   ]
  },
  {
   "cell_type": "markdown",
   "id": "86d09ae5-34de-4350-9d04-78df584466f2",
   "metadata": {
    "collapsed": false,
    "name": "create_a_new_database"
   },
   "source": [
    "## 새로운 데이터베이스 생성 📓\n",
    "\n",
    "이 실습에서는 Snowsight 인터페이스를 사용하여 새 데이터베이스를 생성합니다. 단계는 아래에 나와 있으니, 먼저 다음 노트와 팁을 읽어보세요.\n",
    "\n",
    "- `(animal)_CREATE_DB_RL` 역할을 사용해야 합니다.\n",
    "    - 이 역할은 Education Services 팀에 의해 미리 생성된 것입니다.\n",
    "    - Snowflake의 빌트인 시스템 역할은 아닙니다.\n",
    "    - 최소한의 권한만 부여되어 있습니다. - 이 실습에 필요한 수준\n",
    "\n",
    "이 과정에서 할당받은 동물 이름 사용자명을 기반으로 데이터베이스 이름을 지정하세요. 아래 셀의 Python 코드 블록을 실행하여 이를 확인하세요.\n",
    "- 현재 코드가 무엇을 하는지 이해할 필요는 없습니다. 그냥 실행하고 출력값을 확인하세요."
   ]
  },
  {
   "cell_type": "code",
   "execution_count": null,
   "id": "d5447765-8b0b-4192-9162-db6e6acb47b0",
   "metadata": {
    "collapsed": false,
    "language": "python",
    "name": "cell5"
   },
   "outputs": [],
   "source": [
    "print('Use this name for your new database: ' + your_db)"
   ]
  },
  {
   "cell_type": "markdown",
   "id": "4e197a0c-2601-4deb-9f56-f79dc1236965",
   "metadata": {
    "collapsed": false,
    "name": "cell6"
   },
   "source": [
    "### 새로운 탭 또는 창에 데이터베이스 페이지 열기 🥋\n",
    "\n",
    "Snowsight 오브젝트 브라우저를 새 브라우저 탭 또는 창에서 엽니다.\n",
    "\n",
    "1. 노트북 왼쪽에 있는 **Databases** 아이콘 위에 커서를 올려높으세요.\n",
    "\n",
    "1. 나타나는 대화 상자의 **Databases** 링크를 오른쪽 클릭한 후, 선호하는 방법으로 새 탭 또는 새 창에서 열기를 선택하세요.\n",
    "\n",
    "1. 이렇게 하면 Snowflake Notebook 페이지를 방해하지 않고 열려 있는 상태로 유지하며, 쉽게 지침으로 돌아올 수 있습니다.\n",
    "\n",
    "![Open Databases page (image)](https://edu-cdev-images.s3.us-west-2.amazonaws.com/ob/ob_open_databases_page_1.png)"
   ]
  },
  {
   "cell_type": "markdown",
   "id": "69ae0530-3196-4043-a799-2a62978675f2",
   "metadata": {
    "collapsed": false,
    "name": "cell7"
   },
   "source": [
    "### 새로운 데이터베이스를 생성합니다. 🥋\n",
    "\n",
    "1. 역할 선택기에서 `(animal)_CREATE_DB_RL`로 설정되어 있는지 확인합니다. (여기서 **animal**은 할당받은 사용자명입니다)\n",
    "\n",
    "1. 오른쪽 상단에 있는 파란색 **+ Database** 버튼을 클릭합니다.\n",
    "\n",
    "1. 대화 상자의 **Name** 필드에 데이터베이스 이름을 입력합니다.(Comment는 비워 두세요). 이 셀 위에서 제공된 이름을 사용합니다.\n",
    "\n",
    "1. **Create** 버튼을 클릭합니다.\n",
    "\n",
    "![Create Databases path (image)](https://edu-cdev-images.s3.us-west-2.amazonaws.com/ob/ob_create_database_dialog_1.png)\n",
    "\n",
    "### 오브젝트 브라우저에서 새 데이터베이스를 확인합니다.\n",
    "\n",
    "1. :eyes: :point_right: 새 데이터베이스는 오브젝트 브라우저와 오른쪽 데이터베이스 목록 페이지의 중간에 컬럼 항목으로 표시되어야 합니다.\n",
    "\n",
    "![Databases listing page (image)](https://edu-cdev-images.s3.us-west-2.amazonaws.com/ob/ob_databases_listing_page_1.png)"
   ]
  },
  {
   "cell_type": "markdown",
   "id": "733d657b-63c1-4710-933a-2e2c2e1396b1",
   "metadata": {
    "collapsed": false,
    "name": "cell8"
   },
   "source": [
    "### 데이터베이스 생성 확인을 위한 코드 실행 🥋\n",
    "\n",
    "SQL 명령어를 실행하여 데이터베이스 오브젝트가 생성되었는지 확인**할 수도** 있습니다. `SHOW` 명령어를 시도해 봅니다. 이는 Snowflake 환경에서 오브젝트에 대한 일반 정보를 확인하는 데 유용합니다.\n",
    "\n",
    ":flashlight: 이전에 데이터베이스 이름을 Python 변수에 저장했습니다. 노트북 셀에서 두개의 중괄호 {{}}로 이를 참조하여 사용할 수 있습니다. Snowflake는 셀에서 명령어를 실행하기 전에 이 자리 표시자를 저장된 값으로 대체합니다.\n",
    "\n",
    "💡 **팁:** 다음 SQL 셀에서는 역할 `(animal)_CREATE_DB_RL`을 사용하도록 명시적으로 컨텍스트를 설정합니다. Snowflake Notebook은 실행 중인 Snowsight 창의 역할을 자동으로 상속하지 않습니다. 대신 독립적으로 작동하며 각자 별도의 Snowflake 세션을 유지합니다."
   ]
  },
  {
   "cell_type": "code",
   "execution_count": null,
   "id": "83fb8658-b43e-4c11-9e46-edfbc026c31e",
   "metadata": {
    "collapsed": false,
    "language": "sql",
    "name": "cell9"
   },
   "outputs": [],
   "source": [
    "USE ROLE {{user}}_create_db_rl;\n",
    "SHOW DATABASES LIKE '%{{your_db}}%';"
   ]
  },
  {
   "cell_type": "markdown",
   "id": "9b4f2865-92a7-4287-a89d-f4fd0ef27f0a",
   "metadata": {
    "collapsed": false,
    "name": "cell10"
   },
   "source": [
    "### 역할을 `(animal)_LEARNER_RL`로 전환 🥋\n",
    "\n",
    "1. 새 창이나 탭에서 열어둔 **Databases** 페이지를 사용하여 Snowsight 인터페이스 왼쪽 하단에 있는 역할 선택기를 찾습니다.\n",
    "\n",
    "1. 현재 선택된 역할을 `(animal)_CREATE_DB_RL`에서 `(animal)_LEARNER_RL`로 변경합니다.\n",
    "\n",
    "역할 변경 효과를 보기위해 오브젝트 브라우저를 새로고침(상단의 원형 화살표)하거나 웹 브라우저 탭을 새로 고침해야 할 수도 있습니다.\n",
    "\n",
    ":eyes: :point_right:  오브젝트 브라우저 및 데이터베이스 목록 창에서 새로 생성한 데이터베이스가 **사라지는 것**을 확인합니다.\n",
    "\n",
    "![Databases listing page 2 (image)](https://edu-cdev-images.s3.us-west-2.amazonaws.com/ob/ob_databases_listing_page_2.png)"
   ]
  },
  {
   "cell_type": "markdown",
   "id": "3d272aa2-5f02-4924-8d62-20c7a46028d8",
   "metadata": {
    "collapsed": false,
    "name": "explore_your_database"
   },
   "source": [
    "## 데이터베이스 탐색 🥋\n",
    "\n",
    "### 역할을 다시 `(animal)_CREATE_DB_RL`로 전환\n",
    "\n",
    "1. Snowsight 인터페이스 왼쪽 하단에서 역할 선택기를 찾습니다.\n",
    "\n",
    "1. 현재 선택된 역할을 `(animal)_LEARNER_RL`에서 `(animal)_CREATE_DB_RL`로 변경합니다.\n",
    "\n",
    "역할 변경 효과를 보기위해 오브젝트 브라우저를 새로고침(상단의 원형 화살표)하거나 웹 브라우저 탭을 새로 고침해야 할 수도 있습니다.\n",
    "\n",
    ":eyes: :point_right: 오브젝트 브라우저 및 데이터베이스 목록 창에서 새로 생성한 데이터베이스가 **나타나는 것**을 확인합니다.\n",
    "\n",
    "![Databases listing page (image)](https://edu-cdev-images.s3.us-west-2.amazonaws.com/ob/ob_databases_listing_page_1.png)"
   ]
  },
  {
   "cell_type": "markdown",
   "id": "7d367579-9e44-4373-8cdb-96fd4cc1dd9d",
   "metadata": {
    "collapsed": false,
    "name": "cell12"
   },
   "source": [
    "\n",
    "### 생성한 데이터베이스 탐색 🥋\n",
    "\n",
    "1. 위에 표시된 데이터베이스 페이지에서 중간 컬럼에 있는 새 데이터베이스 이름을 클릭합니다.\n",
    "\n",
    "1. :eyes: :point_right: 새 데이터베이스의 스키마 목록이 펼쳐지고, 오른쪽 패널에서 **Database Details**와 **Schemas**에 대한 관련 정보를 확인할 수 있습니다.\n",
    "\n",
    "1. 또한, 오브젝트 브라우저에서 데이터베이스를 선택하면 오른쪽 상단에 스키마를 생성할 수 있는 버튼인 파란색 `+ Schema` 버튼이 나타납니다.\n",
    "\n",
    "![Databases listing page 3(image)](https://edu-cdev-images.s3.us-west-2.amazonaws.com/ob/ob_databases_listing_page_3.png)"
   ]
  },
  {
   "cell_type": "markdown",
   "id": "7cd6a506-18d3-4150-bf33-08195ddb4586",
   "metadata": {
    "collapsed": false,
    "name": "cell13"
   },
   "source": [
    "### 새로 생성한 데이터베이스에 대한 추가 정보 표시를 위한 코드 실행\n",
    "\n",
    "이전에 사용한 `SHOW` 명령어 외에도, 새 데이터베이스에 포함된 스키마 정보를 확인하려면 `DESCRIBE` 명령어를 실행할 수 있습니다. 아래 명령어를 사용하여 시도해 봅니다:"
   ]
  },
  {
   "cell_type": "code",
   "execution_count": null,
   "id": "7d7361bd-ed2b-4707-a84d-dc1270757001",
   "metadata": {
    "collapsed": false,
    "language": "sql",
    "name": "cell14"
   },
   "outputs": [],
   "source": [
    "-- This will provide you with a list of schemas (automatically created for you!) inside your new database.\n",
    "DESCRIBE DATABASE {{your_db}};"
   ]
  },
  {
   "cell_type": "markdown",
   "id": "11ed25b0-2b9a-41b4-811c-a4da57262c86",
   "metadata": {
    "collapsed": false,
    "name": "databases_and_schemas"
   },
   "source": [
    "## 데이터베이스와 스키마 📓\n",
    "\n",
    "데이터베이스는 데이터셋(테이블 및 기타 오브젝트)을 하나로 묶습니다. 데이터베이스 내에 있는 두 번째 수준의 조직화 그룹은 **스키마**라고 합니다. 데이터베이스를 생성할때 마다 Snowflake는 **자동으로** 두 개의 스키마를 생성합니다.\n",
    "\n",
    "1. `INFORMATION_SCHEMA` 스키마는 뷰 모음을 보유합니다. `INFORMATION_SCHEMA` 스키마는 삭제(drop), 이름 변경 또는 이동이 불가능합니다.\n",
    "\n",
    "1. `PUBLIC` 스키마는 비어진 상태로 생성되며, 시간이 지남에 따라 테이블, 뷰 및 기타 오브젝트로 채울 수 있습니다. `PUBLIC` 스키마는 언제든지 삭제(drop), 이름 변경 또는 이동이 가능합니다.  "
   ]
  },
  {
   "cell_type": "markdown",
   "id": "5316144f-4b24-4055-9566-19c61f1335c6",
   "metadata": {
    "collapsed": false,
    "name": "transfer_ownership"
   },
   "source": [
    "## 데이터베이스와 스키마의 소유권을 `(animal)_LEARNER_RL` 역할로 이전 🥋\n",
    "\n",
    "이 실습에서는 새 데이터베이스의 `PUBLIC` 스키마와 데이터베이스 자체의 소유권을 `(animal)_LEARNER_RL` 역할로 이전합니다. 스키마는 데이터베이스 내에 **포함된** 오브젝트이므로 먼저 스키마를 전환한 뒤 \"외부\" 오브젝트인 데이터베이스를 이전합니다.\n",
    "\n",
    "다시 한번, 이 작업은 데이터베이스 페이지에서 수행합니다.\n",
    "\n",
    "### `PUBLIC` 스키마의 소유권 이전\n",
    "\n",
    "1. 왼쪽 하단 역할 선택기에서 `(animal)_CREATE_DB_RL` 역할이 선택되어 있는지 다시 확인합니다.\n",
    "\n",
    "1. 새 데이터베이스 이름을 선택합니다.\n",
    "\n",
    "1. 그런 다음, 오브젝트 브라우저에서 (아래 이미지에서 파란색으로 강조 표시된) `PUBLIC` 스키마 이름을 선택합니다.\n",
    "\n",
    "1. Snowsight 인터페이스 오른쪽 상단에 있는 파란색 **+ Create** 버튼 옆에 있는 줄임표(점 3개)를 클릭합니다.\n",
    "\n",
    "1. 드롭다운 메뉴가 나타나면 **Transfer Ownership** 옵션을 선택합니다.\n",
    "\n",
    "![Databases listing page 3(image)](https://edu-cdev-images.s3.us-west-2.amazonaws.com/ob/ob_transfer_schema_ownership_1.png)\n",
    "\n",
    "1. **Transfer to** 선택 상자의 드롭다운 화살표를 클릭합니다.\n",
    "\n",
    "1. **Search** 옵션을 사용해 역할을 목록에서 검색할 수 있습니다. -  `(animal)_LEARNER_RL`을 선택합니다.\n",
    "\n",
    "1. 그런 다음, 파란색 **Transfer** 버튼을 클릭합니다.\n",
    "\n",
    ":eyes: :point_right: 스키마에 대해 _\"Ownership successfully transferred\"_ 라는 메시지가 보여야 합니다.\n",
    "\n",
    "![Transfer ownership dialog (image)](https://edu-cdev-images.s3.us-west-2.amazonaws.com/ob/ob_transfer_dialog_1.png)"
   ]
  },
  {
   "cell_type": "markdown",
   "id": "eafecead-143c-4715-b8e4-7f677332c784",
   "metadata": {
    "collapsed": false,
    "name": "cell17"
   },
   "source": [
    "### 데이터베이스의 소유권 이전 🥋\n",
    "\n",
    "유사한 절차를 사용하여 데이터베이스 페이지에서 새 데이터베이스의 소유권도 `(animal)_LEARNER_RL` 역할로 이전할 수 있습니다.\n",
    "\n",
    "1. 왼쪽 하단 역할 선택기에서 `(animal)_CREATE_DB_RL` 역할이 선택되어 있는지 다시 확인합니다.\n",
    "\n",
    "1. 오브젝트 브라우저 중간에서 (아래 이미지에서 파란색으로 강조 표시된) 새로운 데이터베이스 이름을 선택합니다.\n",
    "\n",
    "1. Snowsight 인터페이스 오른쪽 상단의 파란색 `+ Schema` 버튼 옆에 있는 줄임표(점 3개)를 클릭합니다.\n",
    "\n",
    "드롭다운 메뉴가 나타나면 **Transfer Ownership** 옵션을 선택합니다.\n",
    "\n",
    "![Transfer database ownership (image)](https://edu-cdev-images.s3.us-west-2.amazonaws.com/ob/ob_transfer_db_ownership_1.png)\n",
    "\n",
    "1. **Transfer to** 선택 상자의 드롭다운 화살표를 클릭합니다.\n",
    "\n",
    "1. **Search** 옵션을 사용해 역할을 목록에서 검색할 수 있습니다. -  `(animal)_LEARNER_RL`을 선택합니다.\n",
    "\n",
    "1. 그런 다음, 파란색 **Transfer** 버튼을 클릭합니다.\n",
    "\n",
    ":eyes: :point_right: 데이터베이스에 대해 _\"Ownership successfully transferred\"_ 라는 메시지가 보여야 합니다."
   ]
  },
  {
   "cell_type": "markdown",
   "id": "340cf80d-fc17-4291-9bfa-89b96be01b08",
   "metadata": {
    "collapsed": false,
    "name": "cell18"
   },
   "source": [
    "### 역할을 `(animal)_LEARNER_RL`로 다시 전환 🥋\n",
    "\n",
    "1. Snowsight 인터페이스 왼쪽 하단에서 역할 선택기를 찾습니다.\n",
    "\n",
    "1. 현재 선택된 역할을 `(animal)_CREATE_DB_RL` 에서 `(animal)_LEARNER_RL`로 변경합니다.\n",
    "\n",
    "역할 변경의 효과를 확인하기 위해 웹 브라우저 탭을 새로 고침해야 할 수도 있습니다.\n",
    "\n",
    ":eyes: :point_right: 새 데이터베이스와 `PUBLIC` 스키마가 오브젝트 브라우저 및 데이터베이스 목록 패널에 다시 **나타나야** 합니다. 이들은 더 이상 `(animal)_CREATE_DB_RL` 역할에서는 보이지 않습니다.\n",
    "\n",
    "![Databases listing page 4 (image)](https://edu-cdev-images.s3.us-west-2.amazonaws.com/ob/ob_databases_listing_page_4.png)"
   ]
  },
  {
   "cell_type": "markdown",
   "id": "88d0fbbc-5b14-412b-a879-096caf4db6ea",
   "metadata": {
    "collapsed": false,
    "name": "how_does_changing_your_role_affect"
   },
   "source": [
    "## 역할 변경이 볼 수 있는 데이터베이스에 어떤 영향을 미치나요? 📓 \n",
    "\n",
    "역할을 변경하면 데이터베이스, 스키마, 테이블, 뷰 등에 대해 **보는 것**과 **할 수 있는 것**이 달라집니다! Snowsight 인터페이스를 탐색하면서 이를 쉽게 확인할 수 있습니다.\n",
    "\n",
    "### 직접 시도하기 🥋\n",
    "\n",
    "1. 역할 선택기(Snowsight 왼쪽 하단)를 사용하여 `(animal)_LEARNER_RL`을 선택합니다.\n",
    "\n",
    "1. 데이터베이스 목록을 확인합니다.\n",
    "\n",
    "1. 역할을 `(animal)_CREATE_DB_RL`로 변경합니다.\n",
    "\n",
    "1. 참고로 모든 역할이 모든 데이터베이스를 확인할 수 있는 것은 아닙니다. 이 역할로 몇개의 데이터베이스를 볼 수 있습니까?\n",
    "\n",
    "**참고**: Snowflake를 사용할 때, 종종 무엇인가가 사라진 것처럼 보이는 경우가 있습니다. 내가 생성한 항목임을 알고 있음에도 **\" Does Not Exist error\"** 오류가 표시될 수 있습니다. 이런 경우, 역할을 먼저 확인해야합니다!!"
   ]
  },
  {
   "cell_type": "markdown",
   "id": "c1412735-5d2d-4781-b281-94f4b86c3d86",
   "metadata": {
    "collapsed": false,
    "name": "challenge_exercise"
   },
   "source": [
    "## 챌린지 실습 🎯 \n",
    "\n",
    "이것은 챌린지 실습입니다! 챌린지 실습은 다른 실습과 달리 단계별 지침을 제공하지 않습니다. 대신 최동 목표만 제공하며, 이전 실습에서 배운 기술을 사용해 작업을 완료해야 합니다. 챌린지 실습은 반드시 수행해야 하는 필수 사항입니다.\n",
    "\n",
    "\n",
    "행운을 빕니다!\n",
    "\n",
    "---\n",
    "\n",
    "### 새 데이터베이스 생성 🎯 \n",
    "\n",
    "새 데이터베이스를 생성하고 이름을 **(animal)_**`UTIL_DB`로 지정하세요. 이 데이터베이스와 `PUBLIC` 스키마는 `(animal)_LEARNER_RL`의 소유가 되어야 합니다. 아래 셀의 Python 코드를 실행하여 새 데이터베이스 이름을 확인하세요.\n",
    "\n",
    "**힌트**: 데이터베이스를 생성하기 전에 역할을 `(animal)_LEARNER_RL`로 설정하면 자동으로 이 역할이 소유권을 갖게 됩니다. 이 경우 소유권 전환 작업을 수행할 필요가 없습니다. \n",
    "\n",
    "만약 데이터베이스를 생성하기 전에 역할을 `(animal)_LEARNER_RL`로 설정하지 않았다면, 소유권을 해당 역할로 이전해야 합니다."
   ]
  },
  {
   "cell_type": "code",
   "execution_count": null,
   "id": "10ae0c87-75a2-4633-b8b0-1bc30c651a66",
   "metadata": {
    "collapsed": false,
    "language": "python",
    "name": "cell21"
   },
   "outputs": [],
   "source": [
    "your_util_db = user + '_UTIL_DB'\n",
    "print('Use this name for your new database: ' + your_util_db)"
   ]
  },
  {
   "cell_type": "markdown",
   "id": "459b832a-a718-486c-be7f-617567278f85",
   "metadata": {
    "collapsed": false,
    "name": "cell22"
   },
   "source": [
    "### 작업 확인 🎯 \n",
    "\n",
    "`(animal)_LEARNER_RL` 역할로 접근 가능한 데이터베이스(고유한 동물 사용자명을 접두사로 갖는)는 총 세 개가 있어야 합니다:\n",
    "\n",
    "- (animal)**_DB**\n",
    "\n",
    "- (animal)**_RESOURCES_DB**\n",
    "\n",
    "- (animal)**_UTIL_DB**\n",
    "\n",
    "이전과 같이 Snowsight의 데이터베이스 페이지에서 목록을 검토하거나, SQL 쿼리를 실행하여 확인할 수 있습니다. 아래 셀에서 시도해 봅니다:"
   ]
  },
  {
   "cell_type": "code",
   "execution_count": null,
   "id": "3779fd07-ef24-4f43-91ea-ea96e7fff0d0",
   "metadata": {
    "collapsed": false,
    "language": "sql",
    "name": "cell23"
   },
   "outputs": [],
   "source": [
    "USE ROLE {{user}}_learner_rl;\n",
    "SHOW databases like '{{user}}%';"
   ]
  },
  {
   "cell_type": "markdown",
   "id": "dd3f1e6a-2a6c-4736-82a6-c290e7e3b9df",
   "metadata": {
    "collapsed": false,
    "name": "cell24"
   },
   "source": [
    "### 챌린지 실습 검토\n",
    "\n",
    "- 어떤 데이터베이스가 보이나요? \n",
    "\n",
    "- 2개의 새로 생성한 데이터베이스가 목록에 있나요?\n",
    "\n",
    "그렇지 않다면, 이 수업의 앞선 단계를 검토하고 문제점을 해결할 수 있는지 보세요.\n",
    "\n",
    "데이터베이스를 확인할 수 있다면, 작업이 완료된 것입니다. 다음으로 진행하세요."
   ]
  },
  {
   "cell_type": "markdown",
   "id": "a5e93cd9-d673-45de-843b-330738408f5b",
   "metadata": {
    "collapsed": false,
    "name": "challenge_exercise_2"
   },
   "source": [
    "## 챌린지 실습 🎯 \n",
    "\n",
    "Snowflake에서는 역할이 오브젝트를 소유하지 않아도, 특정 작업을 수행할 권한이 부여되면 해당 오브젝트를 볼 수 있고 상호작용할 수 있습니다. `GRANT`명령을 사용하여 역할에 권한을 위임할 수 있으며, Snowsight 인터페이스에서도 이를 수행할 수 있는 옵션을 제공합니다.\n",
    "\n",
    "다음 Snowsight 화면을 확인하세요. 다음 설명은 이러한 단계를 직접 수행하는 방법을 이해하는데 도움이 됩니다.\n",
    "\n",
    "- 오브젝트 브라우저에서 스키마를 선택하면 오른쪽에 Schema Details 패널이 표시됩니다. \n",
    "\n",
    "- 참고로 `+ Privilege` 버튼을 클릭하면 **Grant new privileges on** 대화상자가 열립니다.\n",
    "\n",
    "- **Role** 드롭다운에서 스키마에 대한 권한을 부여(grant)할 역할 이름을 선택합니다. 이를 클릭하면 **Search roles** 옵션이 나타납니다. - 이를 사용하여 역할을 찾습니다.\n",
    "\n",
    "- **Privileges** 드롭다운에는 광범위한 오브젝트에 걸친 Snowflake 권한 목록이 포함되어 있습니다. \n",
    "\n",
    "- **USAGE**는 스키마를 조회하고 상호작용할 수 있는 기본 접근 권한을 제공합니다.\n",
    "\n",
    "![Grant privileges (image)](https://edu-cdev-images.s3.us-west-2.amazonaws.com/ob/ob_grant_privileges_1.png)\n",
    "\n",
    "배운 내용을 활용하여 다음 작업을 수행합니다:\n",
    "\n",
    "### 역할에 스키마에 대한 `USAGE`를 부여(grant)하기\n",
    "\n",
    "- `(animal)_LEARNER_RL`로 작업합니다.\n",
    "- Snowsight를 사용하여 **(animal)_DB.PUBLIC** 스키마의 `USAGE`를 부여(grant)합니다.\n",
    "- `(animal)_CREATE_DB_RL`에 부여(grant)합니다.\n",
    "\n",
    "### 역할에 데이터베이스에 대한 `USAGE`를 부여(grant)하기\n",
    "\n",
    "- `(animal)_LEARNER_RL`로 작업합니다. \n",
    "- Snowsight를 사용하여 **(animal)_DB** 스키마의 `USAGE`를 부여(grant)합니다.\n",
    "- `(animal)_CREATE_DB_RL`에 부여(grant)합니다."
   ]
  },
  {
   "cell_type": "markdown",
   "id": "9e7405c4-2279-4090-9284-06ef583b9e75",
   "metadata": {
    "collapsed": false,
    "name": "cell26"
   },
   "source": [
    "### 챌린지 실습 검토\n",
    "\n",
    "- `(animal)_CREATE_DB_RL` 역할로 작업할 때, Snowsight 오브젝트 브라우저에서 **(animal)_DB** 데이터베이스와 그 데이터베이스의 **PUBLIC** 스키마 모두를 확인할 수 있나요?\n",
    "\n",
    "그렇지 않다면, 이 수업의 앞선 단계를 검토하고 문제점을 해결할 수 있는지 보세요.\n",
    "\n",
    "확인이 완료되면 작업이 완료된 것이며 다음으로 진행할 수 있습니다."
   ]
  },
  {
   "cell_type": "markdown",
   "id": "12f5339f-0c50-4d41-b8e7-c3f7675049fe",
   "metadata": {
    "collapsed": false,
    "name": "test_your_knowledge"
   },
   "source": [
    "## 지식 테스트 🔎\n",
    "\n",
    "아래 Python 셀을 실행하여 Streamlit 기반의 위젯을 표시하고 Snowflake 특징과 기능에 대한 질문에 답하세요. 지금은 이 코드가 무엇을 하는지 이해할 필요가 없습니다. 그냥 코드를 실행하세요.\n",
    "\n",
    "질문에 올바르게 답해야 다음 섹션으로 진행할 수 있습니다."
   ]
  },
  {
   "cell_type": "code",
   "execution_count": null,
   "id": "928ac7ff-03f7-46d5-a030-a50eccae2230",
   "metadata": {
    "collapsed": false,
    "language": "python",
    "name": "cell28"
   },
   "outputs": [],
   "source": [
    "question = \"이 실습에서 작업한 내용을 바탕으로, 데이터베이스 소유권에 대한 다음 설명 중 어떤 것이 사실로 보입니까?\"\n",
    "options = [\"아래 보기 중 고르세요...\",\n",
    "           \"A) SYSADMIN이 대부분의 데이터베이스를 소유합니다.\", \n",
    "           \"B) SECURITYADMIN이 대부분의 데이터베이스를 소유합니다.\", \n",
    "           \"C) 데이터베이스의 소유권은 처음에는 이를 생성한 역할에 귀속됩니다.\", \n",
    "           \"D) 데이터베이스를 생성한 후에는 소유권을 다른 역할로 이전할 수 없습니다.\"]\n",
    "\n",
    "st.divider()\n",
    "user_answer = st.radio(question, options, index=0)\n",
    "if user_answer:\n",
    "    if user_answer == \"아래 보기 중 고르세요...\":\n",
    "        ''\n",
    "    else:\n",
    "        answer = '4b0d05675b705b369914f026976d47cf'\n",
    "        response = session.sql(f\"call common_db.resources.quiz_temp('{answer}', '{user_answer}', 'False')\").collect()\n",
    "        if response:\n",
    "            value = response[0]['QUIZ_TEMP']\n",
    "        st.write(value)"
   ]
  },
  {
   "cell_type": "code",
   "execution_count": null,
   "id": "61b85e4e-6560-45e2-9708-19f70eb65290",
   "metadata": {
    "collapsed": false,
    "language": "python",
    "name": "cell29"
   },
   "outputs": [],
   "source": [
    "question = \"데이터베이스가 존재하는 것을 알고 있지만 갑자기 보이지 않거나, 존재하지 않는다는 오류 베시지가 표시될 경우, 가정 먼저 확인해야 할 것은 무엇입니까?\"\n",
    "options = [\"아래 보기 중 고르세요...\",\n",
    "           \"A) 현재 USER 이름\", \n",
    "           \"B) Default ROLE\", \n",
    "           \"C) 현재 ACCOUNT\", \n",
    "           \"D) 현재 ROLE\"]\n",
    "\n",
    "st.divider()\n",
    "user_answer = st.radio(question, options, index=0)\n",
    "if user_answer:\n",
    "    if user_answer == \"아래 보기 중 고르세요...\":\n",
    "        ''\n",
    "    else:\n",
    "        answer = 'f62430a221fdb09616a42327e6eb5830'\n",
    "        response = session.sql(f\"call common_db.resources.quiz_temp('{answer}', '{user_answer}', 'False')\").collect()\n",
    "        if response:\n",
    "            value = response[0]['QUIZ_TEMP']\n",
    "        st.write(value)"
   ]
  },
  {
   "cell_type": "markdown",
   "id": "c72f4ec3-8b54-40d8-abfa-c9788d2f8320",
   "metadata": {
    "collapsed": false,
    "name": "next_steps"
   },
   "source": [
    "## 다음 단계\n",
    "\n",
    "실습 단계를 완료하고 **지식 테스트** 질문에 올바르게 답했다면, Snowflake 강사의 안내에 따라 다음 노트북으로 진행하세요."
   ]
  }
 ],
 "metadata": {
  "kernelspec": {
   "display_name": "Streamlit Notebook",
   "name": "streamlit"
  }
 },
 "nbformat": 4,
 "nbformat_minor": 5
}
