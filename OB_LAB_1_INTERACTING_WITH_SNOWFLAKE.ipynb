{
 "metadata": {
  "kernelspec": {
   "display_name": "Streamlit Notebook",
   "name": "streamlit"
  },
  "lastEditStatus": {
   "notebookId": "k7w3gw52sjgp2qdrtkjd",
   "authorId": "2211604274361",
   "authorName": "LOBSTER07",
   "authorEmail": "",
   "sessionId": "488c5ebd-6d78-4385-b750-af6635ecb03c",
   "lastEditTime": 1753161325738
  }
 },
 "nbformat_minor": 5,
 "nbformat": 4,
 "cells": [
  {
   "cell_type": "markdown",
   "id": "091f55df-8db4-4395-baaf-28dc96ffee2a",
   "metadata": {
    "collapsed": false,
    "name": "lab_1_interacting_with_snowflake"
   },
   "source": [
    "# Lab 1: Snowflake와 상호 작용\n",
    "\n",
    "👉 이 수업에서는 Snowflake와 상호 작용하는 데 사용할 수 있는 다양한 시각적 인터페이스를 소개합니다. 이 과정 전반에 걸쳐 사용할 Snowflake Notebook에 대해 알아보겠습니다."
   ]
  },
  {
   "cell_type": "markdown",
   "id": "bb4e5443-e603-440f-b6d8-f06ce2d203fe",
   "metadata": {
    "collapsed": false,
    "name": "snowsight_user_interfaces"
   },
   "source": [
    "## Snowsight 사용자 인터페이스 📓 \n",
    "\n",
    "현재 로그인한 웹 UI인 Snowsight는 선호도에 따라 Snowflake와 상호작용할 수 있는 여러 인터페이스를 제공합니다.\n",
    "\n",
    "### 오브젝트 기반 UI 탐색기\n",
    "\n",
    "- 오브젝트를 관리하고 조회하는 메인 또는 홈 인터페이스입니다.\n",
    "    \n",
    "- 이 인터페이스에서 Snowflake 로고(상단 왼쪽)를 클릭하면 홈 화면이 표시됩니다. 홈 화면에서는 검색 창, **Quick actions** 링크, 그리고 **Recently viewed** 프로젝트 목록을 제공합니다.\n",
    "\n",
    "- **Worksheets** 탭을 클릭한 뒤, **Go to Worksheets** 버튼을 누르면 다음 화면이 표시됩니다.\n",
    "\n",
    "![Snowsight home (image)](https://edu-cdev-images.s3.us-west-2.amazonaws.com/ob/ob_snowsight_main_1.png)"
   ]
  },
  {
   "cell_type": "markdown",
   "id": "12dac64b-57c6-429c-9fb6-b04cb31114d7",
   "metadata": {
    "collapsed": false,
    "name": "cell3"
   },
   "source": [
    "### SQL 기반 Worksheet\n",
    "    \n",
    "- SQL 구문과 쿼리를 작성 및 실행하고 결과를 확인할 수 있습니다. \n",
    "\n",
    "- 작업하려는 오브젝트를 찾고 선택할 수 있도록 계층형 트리 구조로 구성된 내장형 오브젝트 브라우저를 제공합니다.\n",
    "\n",
    "![SQL worksheet (image)](https://edu-cdev-images.s3.us-west-2.amazonaws.com/ob/ob_snowsight_worksheet_1.png)"
   ]
  },
  {
   "cell_type": "markdown",
   "id": "06ff9846-4c45-4d6c-891f-9250bf1ef602",
   "metadata": {
    "collapsed": false,
    "name": "cell4"
   },
   "source": [
    "### Python 기반 Worksheet\n",
    "\n",
    "- Python 코드를 작성하고 실행할 수 있으며, 해당 코드를 Python Stored Procedure로 배포할 수 있는 옵션을 제공합니다.\n",
    "\n",
    "- 또한, 내장형 오브젝트 브라우저를 포함하고 있습니다.\n",
    "\n",
    "![Python worksheet (image)](https://edu-cdev-images.s3.us-west-2.amazonaws.com/ob/ob_python_worksheet_1.png)"
   ]
  },
  {
   "cell_type": "markdown",
   "id": "799a82e6-d17e-4e7f-8c5d-fcbadd135cb6",
   "metadata": {
    "collapsed": false,
    "name": "cell5"
   },
   "source": [
    "### Snowflake Notebook\n",
    "\n",
    "- 설명을 위한 마크다운 셀과 실행 가능한 SQL 및 Python 셀이 포함되어 있습니다.\n",
    "\n",
    "- 또한, 내장형 오브젝트 브라우저를 포함하고 있습니다.\n",
    "    \n",
    "![Snowsight home (image)](https://edu-cdev-images.s3.us-west-2.amazonaws.com/ob/ob_snowflake_notebook_1.png)\n",
    "\n",
    "👉 **Snowflake Notebooks**은 이 과정을 위한 실습 콘텐츠와 상호 작용할 수 있는 주요 도구입니다. 과정 콘텐츠로 들어가기 전에, 그 기능을 간단히 살펴보는 시간을 가질 예정입니다."
   ]
  },
  {
   "cell_type": "markdown",
   "id": "8c2c7555-dd00-469d-b95b-9d022e64a50d",
   "metadata": {
    "collapsed": false,
    "name": "snowflake_notebook_capabilities"
   },
   "source": [
    "## Snowflake Notebook 기능 📓 \n",
    "\n",
    "### 노트북 세션 시작하기\n",
    "\n",
    "Snowflake Notebook에서는 포함된 SQL 및 Python 셀의 코드를 실행하기 위해 **활성화된** 컴퓨팅 리소스가 필요합니다. 이러한 컴퓨팅 리소스(Snowflake 가상 웨어하우스, 이후에 자세히 설명 예정)는 노트북 생성 시 할당됩니다. 그러나 노트북에 들어갈 때 즉시 시작되지는 않습니다.k. 새로운 `세션`은 다음 두가지 방법으로 트리거할 수 있습니다:\n",
    "\n",
    "1. 노트북 인터페이스 오른쪽 상단에 있는 **Start** 버튼을 클릭합니다. 완료까지 몇 초가 소요될 수 있으며, 완료되면 버튼에 **Active**라고 표시됩니다.\n",
    "1. 실행 가능한 (SQL 또는 Python) 노트북 셀을 실행하려고 시도합니다. 시스템이 해당 셀의 코드를 실행하기 전에 새로운 세션을 설정합니다.\n",
    "\n",
    "![Start session (image)](https://edu-cdev-images.s3.us-west-2.amazonaws.com/ob/ob_start_session.png)\n",
    "\n",
    "💡 **팁:** 이 버튼 오른쪽의 드롭다운에는 세션을 `End`할 수 있는 옵션이 포함되어 있습니다. 노트북 작업이 끝난 후에는 수동으로 세션을 종료하는 것은 좋은 습관입니다. 노트북은 설정된 유휴 시간 제한 초과 기간이 만료되면 자동으로 종료되지만, 작업이 완료되고 수동으로 종료하면 컴퓨팅 비용을 절약할 수 있습니다."
   ]
  },
  {
   "cell_type": "markdown",
   "id": "400fc883-f803-44c9-b880-e30db21571ff",
   "metadata": {
    "collapsed": false,
    "name": "cell7"
   },
   "source": [
    "### 노트북 셀 기초 📓 \n",
    "\n",
    "- **셀 추가**\n",
    "    - 기존 셀의 하단 경계 위에 마우스 커서를 올리고 원하는 셀 유형의 버튼을 클릭합니다.\n",
    "\n",
    "- **셀 유형 변경**\n",
    "    - 기존 셀에서 셀 유형 옆에 있는 아래쪽 화살표를 선택합니다.\n",
    "\n",
    "- **셀 삭제**\n",
    "    - 줄임표를 선택하여 적절한 조치를 선택합니다.\n",
    "\n",
    "- **셀 이동**\n",
    "    - 줄임표(세로로 쌓인 세개의 점)를 선택하고 원하는 작업(Move cell up - 셀 위로 이동, Move cell down - 셀 아래로 이동)을 선택합니다.\n",
    "    - 이동하려는 셀 위에 커서를 올리고, 드래그 앤 드롭 아이콘을 선택한 후 셀을 새 위치로 이동합니다."
   ]
  },
  {
   "cell_type": "markdown",
   "id": "3d5760b7-2921-4126-9b94-16e14e8b44aa",
   "metadata": {
    "name": "title",
    "collapsed": false
   },
   "source": [
    "### 직접 시도하기! 🥋\n",
    "\n",
    "1. 이 노트북 셀 왼쪽 상단에 있는 **Markdown** 레이블 옆에 있는 드롭다운을 클릭하여 이 셀 유형을 SQL 또는 Python으로 얼마나 쉽게 바꿀 수 있는지 확인하세요.\n",
    "1. 이 Markdown 셀의 이름을 변경하려면 이름을 클릭하고 새 레이블을 입력하세요. 단 셀 이름에 사용할 수 있는 문자에는 일부 제한이 있다는 점을 참고하세요.\n",
    "1. 이 Markdown 셀의 오른쪽 상단에 있는 줄임표를 선택하고, 셀을 이동하거나 삭제할 수 있는 옵션을 확인하세요.\n",
    "1. 셀의 오른쪽 상단에 있는 줄임표 왼쪽의 가로 막대 아이콘을 클릭하여 노트북에서 이 셀을 **Collapse - 축소**하거나 **Expand - 확장**할 수 있습니다."
   ]
  },
  {
   "cell_type": "markdown",
   "id": "8985824b-b81d-4182-918f-20b85746ec26",
   "metadata": {
    "collapsed": false,
    "name": "cell9"
   },
   "source": [
    "### 노트북 셀 실행하기 📓 \n",
    "\n",
    "![Notebook run options (image)](https://edu-cdev-images.s3.us-west-2.amazonaws.com/ob/ob_notebook_run_options_1.png)\n",
    "\n",
    "다음은 주요 셀 작업에 대한 설명입니다:\n",
    "\n",
    "- **단일 셀 실행**\n",
    "    - 셀 오른쪽 상단의 회색 재생 화살표를 선택합니다.\n",
    "    - 기본 실행 단축키를 사용합니다:\n",
    "        - Cmd + Return - Mac.\n",
    "        - Ctrl + Enter - Windows.\n",
    "    \n",
    "- **노트북의 모든 셀을 순차적으로 실행**\n",
    "    - 노트북 상단 **Start** 버튼 오른쪽에 있는 **Run all** 옵션을 선택합니다.\n",
    "    - 단축키를 사용합니다:\n",
    "        - Cmd + Shift + Return – Mac.\n",
    "        - Ctrl + Shift + Enter – Windows.\n",
    "\n",
    "- **셀 실행 후 다음 셀로 이동**\n",
    "    - SQL 또는 Python 셀 상단의 줄임표를 선택하고 **Run cell and advance**를 클릭합니다.\n",
    "    - 단축키를 사용합니다:\n",
    "        - Shift + Return – Mac.\n",
    "        - Shift + Enter – Windows.\n",
    "\n",
    "- **현재 셀 기준 위의 모든 셀 또는 아래의 모든 셀 실행**\n",
    "    - SQL 또는 Python 셀 상단의 줄임표를 선택하고 **Run all above** 또는 **Run all below**를 클릭합니다."
   ]
  },
  {
   "cell_type": "markdown",
   "id": "5533ac38-55c6-4b8c-99c0-d63dec8d1a2d",
   "metadata": {
    "collapsed": false,
    "name": "running_sql_cells"
   },
   "source": [
    "## SQL 셀 실행하기\n",
    "\n",
    "노트북의 SQL 셀에서는 SQL 구문을 작성 및 실행하고, 쿼리 세부 정보를 검토하며 결과를 확인할 수 있습니다.\n",
    "\n",
    "### 직접 시도하기! 🥋\n",
    "\n",
    "1. 노트북 세션이 아직 **Active**상태가 아니라면 세션을 시작하세요.\n",
    "1. 이 Markdown 셀 바로 아래에 있는 **SQL** 셀을 해당 셀의 회색 **Run** 버튼을 사용하여 실행하세요.\n",
    "1. 같은 셀을 **Run** 버튼 대신 키보드 단축키를 사용해 다시 실행해 보세요.\n",
    "1. 익숙해졌다고 느껴졌다면 셀의 SQL을 편집해 봅니다. (**date**를 **time**으로 변경하고 `current_date()`를 `current_timestamp()`로 변경) 다시 실행해 봅니다.\n",
    "\n",
    "💡 **팁:** 셀에 SQL을 입력할 때 **autocomplete - 자동 완성** 기능이 실행되어 상황에 맞는 제안을 제공합니다.\n"
   ]
  },
  {
   "cell_type": "code",
   "execution_count": null,
   "id": "405c7e5e-4399-4c38-b1f7-922cd139a4f0",
   "metadata": {
    "collapsed": false,
    "language": "sql",
    "name": "cell11"
   },
   "outputs": [],
   "source": "SELECT current_timestamp() as \"What is the current date?\";"
  },
  {
   "cell_type": "markdown",
   "id": "d0cff537-0a4e-47da-8d3c-96ee76044c0b",
   "metadata": {
    "collapsed": false,
    "name": "running_python_cells"
   },
   "source": [
    "## Python 셀 실행하기\n",
    "\n",
    "노트북의 Python 셀을 사용하면 다음과 같은 코드를 작성할 수 있습니다:\n",
    "- 스테이지나 데이터베이스 오브젝트에서 데이터를 추출\n",
    "- 데이터 변환 및 저장\n",
    "- 데이터 분석 및 조작\n",
    "- 데이터 시각화 생성\n",
    "- SQL 결과를 Snowpark 또는 Pandas DataFrames으로 접근\n",
    "\n",
    "또한, 좋아하는 Python 라이브러리를 사용할 수 있습니다! :snake:\n",
    "\n",
    "### 직접 시도하기! 🥋 \n",
    "\n",
    "1. 이 Markdown 셀 바로 아래에 있는 Python 셀을 해당 셀의 회색 실행 버튼을 사용하여 실행하세요.\n",
    "1. 실행 버튼 대신 키보드 단축키를 사용해 같은 셀을 다시 실행해 보세요.\n",
    "\n",
    "💡 팁: Python 코드를 실행하여 SQL과 동일한 결과를 얻는 방법은 이전에 실행한 SQL 구문보다 약간 더 상세하게 작성되어야 합니다. 실행 전에 더 많은 설정이 필요하지만, Python은 매우 유연합니다. 현재 코드의 세부 내용을 완전히 이해하지 못해도 걱정하지 마세요. 이 과정에서 자세히 설명할 예정입니다!"
   ]
  },
  {
   "cell_type": "code",
   "execution_count": null,
   "id": "74fd7a15-5833-47f4-9a28-82101136058c",
   "metadata": {
    "collapsed": false,
    "language": "python",
    "name": "cell13"
   },
   "outputs": [],
   "source": [
    "from snowflake.snowpark.context import get_active_session\n",
    "from snowflake.snowpark.functions import current_date\n",
    "session = get_active_session()\n",
    "session.create_dataframe([1]).select(current_date().alias(\"What is the current date?\")).collect()"
   ]
  },
  {
   "cell_type": "markdown",
   "id": "f5a2d402-8730-44f3-bf0e-414409fb9643",
   "metadata": {
    "collapsed": false,
    "name": "python_variable_substitution"
   },
   "source": [
    "## 노트북 셀 간 Python 변수 치환 🥋\n",
    "\n",
    "Snowflake Notebook에서는 Jinja 구문 `{{..}}`을 사용하여 이전에 정의한 Python 변수를 이후에 나타나는 Python 및 SQL 셀에서 참조할 수 있습니다.\n",
    "\n",
    "다음 Python 셀에서 변수를 정의하고 화면에 출력함으로써 이를 시연해 보겠습니다. 아래 Python 셀을 실행해 보세요:"
   ]
  },
  {
   "cell_type": "code",
   "execution_count": null,
   "id": "bb188345-946f-4736-b23a-8db821acaefc",
   "metadata": {
    "collapsed": false,
    "language": "python",
    "name": "cell15"
   },
   "outputs": [],
   "source": [
    "greeting = 'Welcome to this course!'\n",
    "print(greeting)"
   ]
  },
  {
   "cell_type": "markdown",
   "id": "c5b7eda7-3d37-426f-abb8-6a6e3614de3d",
   "metadata": {
    "collapsed": false,
    "name": "cell16"
   },
   "source": [
    "이 저장된 변수를 추후 Python 셀에서 다시 사용할 수 있습니다. 다음을 실행하세요."
   ]
  },
  {
   "cell_type": "code",
   "execution_count": null,
   "id": "fb357b81-40f4-4d24-82f6-d0d418900b0a",
   "metadata": {
    "collapsed": false,
    "language": "python",
    "name": "cell17"
   },
   "outputs": [],
   "source": [
    "print(\"This is the \\\"greeting\\\" that was defined in an earlier cell:\")\n",
    "print(greeting)"
   ]
  },
  {
   "cell_type": "markdown",
   "id": "e3bb5727-c33b-42b6-8bfb-00ca5d826622",
   "metadata": {
    "collapsed": false,
    "name": "cell18"
   },
   "source": [
    "Jinja 구문을 활용하여 **SQL** 셀에서 이 변수 치환을 사용할 수 있습니다! 시도해 보세요:"
   ]
  },
  {
   "cell_type": "code",
   "execution_count": null,
   "id": "aeea7c81-7989-4b2f-9a17-f58099105a4e",
   "metadata": {
    "collapsed": false,
    "language": "sql",
    "name": "cell19"
   },
   "outputs": [],
   "source": [
    "SELECT '{{greeting}}' AS \"This is the greeting that was defined in an earlier cell:\";"
   ]
  },
  {
   "cell_type": "markdown",
   "id": "6bdd5d06-9688-4ad8-b6f5-5ff14374a4ed",
   "metadata": {
    "collapsed": false,
    "name": "test_your_knowledge"
   },
   "source": [
    "## 지식 테스트 🔎\n",
    "\n",
    "아래 Python 셀을 실행하여 Streamlit 기반의 위젯을 표시하고 Snowflake 인터페이스에 대한 질문에 답하세요. 지금은 이 코드가 무엇을 하는지 이해할 필요가 없습니다. 그냥 코드를 실행하세요.\n",
    "\n",
    "질문에 올바르게 답해야 다음 실습으로 진행할 수 있습니다."
   ]
  },
  {
   "cell_type": "code",
   "execution_count": null,
   "id": "fc7a2876-3121-4414-af27-05518aaac3cc",
   "metadata": {
    "collapsed": false,
    "language": "python",
    "name": "cell21"
   },
   "outputs": [],
   "source": [
    "import streamlit as st\n",
    "try:\n",
    "    if session is None:\n",
    "        print('session is None')\n",
    "except NameError:\n",
    "    from snowflake.snowpark.context import get_active_session\n",
    "    session = get_active_session()\n",
    "\n",
    "question = \"Snowflake 인터페이스에 대한 올바른 설명은 무엇입니까?\"\n",
    "options = [\"아래 보기 중 고르세요...\",\n",
    "           \"A) Main 과 Notetake로 이름을 가지고 있다.\", \n",
    "           \"B) Classic Console과 Snowdrift라는 이름을 가지고 있다.\", \n",
    "           \"C) 각각 오브젝트 브라우저를 가지고 있다.\", \n",
    "           \"D) Main 인터페이스만 오브젝트 선택기를 가지고 있다.\"]\n",
    "\n",
    "st.divider()\n",
    "user_answer = st.radio(question, options, index=0)\n",
    "if user_answer:\n",
    "    if user_answer == \"아래 보기 중 고르세요...\":\n",
    "        ''\n",
    "    else:\n",
    "        answer = '08bfda0abb2d0e0b138dbffa37290ee1'\n",
    "        response = session.sql(f\"call common_db.resources.quiz_temp('{answer}', '{user_answer}', 'False')\").collect()\n",
    "        if response:\n",
    "            value = response[0]['QUIZ_TEMP']\n",
    "        st.write(value)"
   ]
  },
  {
   "cell_type": "code",
   "execution_count": null,
   "id": "89453c15-eeb3-4f43-b860-431c24144e2d",
   "metadata": {
    "collapsed": false,
    "language": "python",
    "name": "cell22"
   },
   "outputs": [],
   "source": [
    "question = \"Snowflake 인터페이스에 대한 올바른 설명은 무엇입니까?\"\n",
    "options = [\"아래 보기 중 고르세요...\",\n",
    "           \"A) Snowflake Worksheet에는 SQL과 Javascript 모두를 지원합니다.\", \n",
    "           \"B) Snowflake Notebook 셀 유형 옵션에는 Scala와 JavaScript가 포함됩니다.\", \n",
    "           \"C) Snowflake Python Worksheet에는 COBOL로 함수를 배포할 수 있는 옵션이 포함됩니다.\", \n",
    "           \"D) Snowflake Notebook 셀 유형 옵션에는 SQL과 Python이 포함됩니다.\"]\n",
    "\n",
    "st.divider()\n",
    "user_answer = st.radio(question, options, index=0)\n",
    "if user_answer:\n",
    "    if user_answer == \"아래 보기 중 고르세요...\":\n",
    "        ''\n",
    "    else:\n",
    "        answer = 'c34818caa553a7470b13e01ff88368a1'\n",
    "        response = session.sql(f\"call common_db.resources.quiz_temp('{answer}', '{user_answer}', 'False')\").collect()\n",
    "        if response:\n",
    "            value = response[0]['QUIZ_TEMP']\n",
    "        st.write(value)"
   ]
  },
  {
   "cell_type": "markdown",
   "id": "577806fc-a4ef-4122-99aa-c9d5beda9527",
   "metadata": {
    "collapsed": false,
    "name": "next_steps"
   },
   "source": [
    "## 다음 단계\n",
    "\n",
    "실습 단계를 완료하고 **지식 테스트** 질문에 올바르게 답했다면, Snowflake 강사의 안내에 따라 다음 노트북으로 진행하세요.\n",
    "\n",
    "다음 단계를 진행하려면 노트북 인터페이스 왼쪽 상단에 있는 내비게이션 버튼을 클릭하여 노트북 목록 페이지로 돌아가세요.\n",
    "\n",
    "![Notebook navigation (image)](https://edu-cdev-images.s3.us-west-2.amazonaws.com/ob/ob_notebook_nav_4.png)\n",
    "\n",
    "- **Exit notebook?** 라는 확인 대화 상자가 표시될 수 있습니다. 파란색 **Exit** 버튼을 클릭하여 종료하세요."
   ]
  }
 ]
}