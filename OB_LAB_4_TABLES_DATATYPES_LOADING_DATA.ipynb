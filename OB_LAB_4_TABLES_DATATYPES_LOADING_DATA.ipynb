{
 "metadata": {
  "kernelspec": {
   "display_name": "Streamlit Notebook",
   "name": "streamlit"
  },
  "lastEditStatus": {
   "notebookId": "qz7i3ace2pk53elngcx4",
   "authorId": "2211604274361",
   "authorName": "LOBSTER07",
   "authorEmail": "",
   "sessionId": "63b8b76f-f0d4-4833-a91c-1bfbec3a3555",
   "lastEditTime": 1753167459747
  }
 },
 "nbformat_minor": 5,
 "nbformat": 4,
 "cells": [
  {
   "cell_type": "markdown",
   "id": "3775908f-ca36-4846-8f38-5adca39217f2",
   "metadata": {
    "collapsed": false,
    "name": "tables_data_types_and_loading_data"
   },
   "source": [
    "# Lab 4: 테이블, 데이터 유형, 데이터 로드 🥋 \n",
    "\n",
    "👉 - 이 실습에서, 식물 뿌리 깊이 값을 저장할 테이블을 생성하고 `INSERT` 구문을 사용하여 데이터를 삽입합니다. 또한 데이터를 쿼리하기 위해 `LIMIT`과 `SELECT` Star(*)의 변형을 사용하는 방법을 알아봅니다.\n",
    "\n",
    "먼저 이 실습 전반에 걸쳐 사용할 **컨텍스트 정보**를 가져오갰습니다. \n",
    "\n",
    "- **Start** 버튼을 클릭하여 이 노트북을 활성화합니다.\n",
    "\n",
    "- 아래 Python 셀을 실행합니다."
   ]
  },
  {
   "cell_type": "markdown",
   "id": "b8919dc9-c720-4601-a4cd-d8c824216e00",
   "metadata": {
    "collapsed": false,
    "name": "cell2"
   },
   "source": [
    "#### :warning: 이 노트북에서 새 세션이 시작될 때마다, 이후 셀에서 사용할 \"변수\"를 설정하려면 아레 셀을 다시 실행해야 합니다. :warning:"
   ]
  },
  {
   "cell_type": "code",
   "execution_count": null,
   "id": "f88ec6b3-1840-4a5e-bdba-cecca4ad1d0a",
   "metadata": {
    "codeCollapsed": false,
    "collapsed": false,
    "language": "python",
    "name": "cell3"
   },
   "outputs": [],
   "source": [
    "import streamlit as st\n",
    "from snowflake.snowpark.context import get_active_session\n",
    "session = get_active_session()\n",
    "user = session.get_current_user().strip('\"')\n",
    "your_db = user + '_DB'\n",
    "print('Your current CONTEXT information:')\n",
    "print('---------------------------------')\n",
    "print(session)\n",
    "print('Your current USER is ' + user)"
   ]
  },
  {
   "cell_type": "markdown",
   "id": "f8624c97-d451-48db-93c0-2c3d07b2e2dc",
   "metadata": {
    "collapsed": false,
    "name": "root_depth_table"
   },
   "source": [
    "## Root Depth 테이블\n",
    "\n",
    "### 아래 이미지의 데이터를 기반으로, 우리의 테이블은 어떤 모습일까요? 📓 \n",
    "\n",
    "![Vegetable details table data (image)](https://edu-cdev-images.s3.us-west-2.amazonaws.com/ob/ob_root_depth_1.png)\n",
    "\n",
    "`TEXT`와 같은 데이터 유형에 대한 자세한 내용은, Snowflake의 온라인 설명서를 참조하세요. [여기](https://docs.snowflake.com/ko/sql-reference/data-types-text#data-types-for-text-strings\").\n",
    "\n",
    "`NUMBER`와 같은 데이터 유형에 대한 자세한 내용은, Snowflake의 온라인 설명서를 참조하세요. [여기](https://docs.snowflake.com/ko/sql-reference/data-types-numeric#number\"). "
   ]
  },
  {
   "cell_type": "markdown",
   "id": "972941f3-2d62-4ba4-9b5e-d9c03ddf463d",
   "metadata": {
    "collapsed": false,
    "name": "cell5"
   },
   "source": [
    "### ROOT_DEPTH 테이블 생성하기 🥋 \n",
    "\n",
    "아래에서 제공된 코드를 검토하여 생성하려는 테이블의 \"구조\"를 이해합니다.\n",
    "\n",
    "SQL 셀을 실행하세요. 모든 것이 잘 진행되면 다음 메시지를 받을 것입니다. \n",
    "\n",
    "`Table ROOT_DEPTH successfully created.`"
   ]
  },
  {
   "cell_type": "code",
   "execution_count": null,
   "id": "fa2b2bd5-9e80-4d23-b328-1f34f298a6b0",
   "metadata": {
    "codeCollapsed": false,
    "collapsed": false,
    "language": "sql",
    "name": "cell6"
   },
   "outputs": [],
   "source": [
    "USE ROLE {{user}}_learner_rl;\n",
    "\n",
    "CREATE TABLE IF NOT EXISTS {{user}}_GARDEN_PLANTS.VEGGIES.ROOT_DEPTH (\n",
    "   ROOT_DEPTH_ID number(1), \n",
    "   ROOT_DEPTH_CODE text(1), \n",
    "   ROOT_DEPTH_NAME text(7), \n",
    "   UNIT_OF_MEASURE text(2),\n",
    "   RANGE_MIN number(2),\n",
    "   RANGE_MAX number(2)\n",
    "   );"
   ]
  },
  {
   "cell_type": "markdown",
   "id": "ff186654-8c66-43f9-8ef0-d2ddd9fed9c0",
   "metadata": {
    "collapsed": false,
    "name": "find_the_table"
   },
   "source": [
    "## 노트북 사이드바의 오브젝트 브라우저에서 방금 생성한 테이블 찾기 🥋 \n",
    "\n",
    "- 노트북 왼쪽에 있는 **Databases** 오브젝트 브라우저를 엽니다.\n",
    "\n",
    "- **(animal)_GARDEN_PLANTS** 데이터베이스 아래의 **VEGGIES** 스키마에서 **ROOT_DEPTH** 테이블을 찾습니다.\n",
    "\n",
    "- **새 탭에서 테이블 세부정보 열기** 아이콘(표시됨)을 클릭하여 새 탭 창에서 해당 화면을 엽니다.\n",
    "\n",
    "![Vegetable details table (image)](https://edu-cdev-images.s3.us-west-2.amazonaws.com/ob/ob_locate_root_depth_1.png)"
   ]
  },
  {
   "cell_type": "markdown",
   "id": "d6c0bd11-5eaf-449e-9ac8-fbcf0308ca15",
   "metadata": {
    "collapsed": false,
    "name": "cell8"
   },
   "source": [
    "### 테이블을 찾을 수 없다면? 📓\n",
    "\n",
    "- 노트북 왼쪽의 Snowsight **Databases** 오브젝트 브라우저를 새로고침합니다.\n",
    "\n",
    "- 브라우저 탭을 새로고침합니다.\n",
    "\n",
    "- Snowsight에서 사용 중인 역할(왼쪽 하단)을 확인합니다. 위 코드로 테이블을 생성할 때 사용한 역할과 동일한가요?\n",
    "\n",
    "- 노트북 왼쪽 Snowsight **Databases** 오브젝트 브라우저 상단의 **Search objects** 상자를 사용하여 검색하세요.\n",
    "\n",
    "### 살수로 잘못된 작업을 했다면? 📓 \n",
    "\n",
    "- 이름을 잘못 지정했나요? 이름을 변경하세요!\n",
    "\n",
    "- 다른 역할이 소유하고 있나요? 소유권을 이전하세요!\n",
    "\n",
    "- 잘못된 데이터베이스나 스키마에 있나요? 위치를 옮기세요!!\n",
    "\n",
    "예제:\n",
    "\n",
    "- 이름을 잘못 입력했다면 `ALTER TABLE`로 이름을 변경하세요.\n",
    "\n",
    "- 잘못된 위치에 테이블이 있다면 `ALTER TABLE`로 테이블을 이동하세요.\n",
    "\n",
    "💡 **팁**: 아래 예제 코드를 참고하여 필요한 경우 수정, 주석해제, 실행하여 문제를 해결하세요.\n",
    "\n",
    "💡 **힌트**: `{{user}}` 코드는 자동으로 동물 사용자이름을 쿼리에 삽입하므로 별도의 수정이 필요 없습니다."
   ]
  },
  {
   "cell_type": "code",
   "execution_count": null,
   "id": "04148a0a-a023-48d4-bb78-f8c800c022ab",
   "metadata": {
    "codeCollapsed": false,
    "collapsed": false,
    "language": "sql",
    "name": "cell9"
   },
   "outputs": [],
   "source": [
    "-- sample resolutions\n",
    "\n",
    "-- ALTER TABLE {{user}}_garden_plants.veggies.rootdeath RENAME TO {{user}}_garden_plants.veggies.root_depth;\n",
    "\n",
    "-- ALTER TABLE {{user}}_garden_plants.flowers.root_depth RENAME TO {{user}}_garden_plants.veggies.root_depth;"
   ]
  },
  {
   "cell_type": "markdown",
   "id": "05b0b6c6-9c25-4c52-9420-79651f089403",
   "metadata": {
    "collapsed": false,
    "name": "view_the_definition"
   },
   "source": [
    "## 테이블 정의 확인하기 🥋 \n",
    "\n",
    "테이블 정의를 확인할 때 표시되는 SQL 코드가 우리가 실행했던 SQL 코드와 **다르다는 점**을 확인하세요. 이는 Snowflake가 내부적으로 몇 가지 변경을 했기 때문입니다!\n",
    "\n",
    "- 차이점을 찾아볼 수 있나요?\n",
    "\n",
    "![ROOT_DEPTH table definition (image)](https://edu-cdev-images.s3.us-west-2.amazonaws.com/ob/ob_view_root_depth_def_1.png)"
   ]
  },
  {
   "cell_type": "markdown",
   "id": "a621dc61-1a00-4d5d-9910-2007de3d3133",
   "metadata": {
    "collapsed": false,
    "name": "insert_a_row_of_data_into_your_new_table"
   },
   "source": [
    "## 새로운 테이블에 데이터 한 행 삽입하기 \n",
    "\n",
    "### 테이블에 데이터 행 삽입하기 📓\n",
    "\n",
    "테이블을 생성했으니 데이터를 넣고자 합니다. 데이터를 테이블에 삽입하는 방법은 여러 가지가 있지만, 가장 간단한 방법부터 시작하여 점차 다양한 옵션을 살펴볼 것입니다. 간단한 방법에서 점차 벗어나면서 더 효율적이고 효과적인 데이터 로드 방법을 배울 것입니다.\n",
    "\n",
    "이 워크숍이 끝날 때까지 다음과 같은 데이터 로드 방법을 경험하게 될 것입니다: \n",
    "\n",
    "- Worksheet에서 `INSERT` 구문을 사용하기\n",
    "\n",
    "- Load Data Wizard를 사용하기\n",
    "\n",
    "- `COPY INTO` 구문 사용하기"
   ]
  },
  {
   "cell_type": "markdown",
   "id": "e9341e9a-983b-4079-8848-6dd772f31f7f",
   "metadata": {
    "collapsed": false,
    "name": "cell12"
   },
   "source": [
    "### 데이터 미리 보기 옵션 사용하기 🥋  \n",
    "\n",
    "테이블에 데이터를 로드하기 전에, 현재 테이블에 행이 없다는 점을 먼저 확인합니다. 이 정보를 빠르게 액세스할 수 있는 두 가지 방법이 있습니다:\n",
    "\n",
    "1. 위 예제에서 열었던 **Table details** 화면에서 **Table Details** 탭을 **Data Preview** 탭으로 전환합니다.\n",
    "\n",
    "1. 요청받으면, 접근 권한이 있는 웨어하우스를 선택합니다. \n",
    "\n",
    "![Preview ROOT_DEPTH data 1 (image)](https://edu-cdev-images.s3.us-west-2.amazonaws.com/ob/ob_root_depth_zero_rows_1.png)\n",
    "\n",
    "1. 다른 방법으로, 노트북 옆의 Databases 탭에서 오브젝트 브라우저를 통해 테이블을 찾습니다. \n",
    "\n",
    "1. 테이블 이름을 클릭하면 아래에 오브젝트 세부 정보 창이 나타납니다.\n",
    "\n",
    "1. 돋보기 아이콘을 클릭하여 테이블 데이터를 미리 봅니다.(현재 이 테이블은 비어 있음)\n",
    "\n",
    "![Preview ROOT_DEPTH data 2 (image)](https://edu-cdev-images.s3.us-west-2.amazonaws.com/ob/ob_root_depth_zero_rows_2.png)"
   ]
  },
  {
   "cell_type": "markdown",
   "id": "89cf88ef-2898-4160-a2ff-f0e9e5790975",
   "metadata": {
    "collapsed": false,
    "name": "cell13"
   },
   "source": [
    "### 아래 Insert 구문을 사용해서 ROOT_DEPTH 테이블에 한 행 삽입하기 🥋 \n",
    "\n",
    "1. 아래 SQL 셀에 있는 구문을 실행합니다.\n",
    "\n",
    "1. **그런 다음**, 위에서 설명한 데이터 미리보기 방법 중 하나를 사용하여 방금 추가한 데이터 행을 확인하세요.\n",
    "\n",
    "💡 **팁**: 매번 오브젝트의 전체 이름을 입력하는 대신, 코드로 컨텍스트(데이터베이스와 스키마)를 설정할 수 있습니다."
   ]
  },
  {
   "cell_type": "code",
   "execution_count": null,
   "id": "01fe831d-6d9e-4f36-841f-58b90a7cd143",
   "metadata": {
    "codeCollapsed": false,
    "collapsed": false,
    "language": "sql",
    "name": "cell14"
   },
   "outputs": [],
   "source": [
    "USE SCHEMA {{user}}_GARDEN_PLANTS.VEGGIES;\n",
    "\n",
    "INSERT INTO ROOT_DEPTH (\n",
    "    ROOT_DEPTH_ID,\n",
    "    ROOT_DEPTH_CODE,\n",
    "    ROOT_DEPTH_NAME,\n",
    "    UNIT_OF_MEASURE,\n",
    "    RANGE_MIN,\n",
    "    RANGE_MAX\n",
    ")\n",
    "VALUES (\n",
    "    1,\n",
    "    'S',\n",
    "    'Shallow',\n",
    "    'cm',\n",
    "    30,\n",
    "    45\n",
    ");"
   ]
  },
  {
   "cell_type": "markdown",
   "id": "b7008ae5-1826-4e84-aed9-1bca0619e278",
   "metadata": {
    "collapsed": false,
    "name": "the_dreaded_does_not_exist"
   },
   "source": [
    "## 악명 높은 \"Does Not Exist or Not Authorized\" 오류 ❗ \n",
    "\n",
    "쿼리를 실행할 때 종종 다음과 같은 메시지가 표시될 수 있습니다: **Table 'TABLE_NAME' does not exist or not authorized.**\n",
    "\n",
    "\n",
    "이 오류는 어렵지 않게 수정할 수 있습니다. 역할을 변경하거나, 설정된 컨텍스트를 변경하거나, 오브젝트의 전체 위치를 추가하여 완전한 이름으로 참조하면 됩니다.\n",
    "\n",
    "때로는 소유권 변경이 해당 항목을 보기 위해 필요합니다. 때로는 이름을 변경하거나 이동해야 할 수도 있습니다. 스스로에게 질문을 해보세요. \"내가 이걸 어디에서 찾고 있는가? 이것은 어디에 있는가? 이것의 이름이 맞는가?\" 그리고 \"이것을 찾는 것은 누구인가? 해당 역할에 접근 권한이 있는가?\"\n",
    "\n",
    "문제를 해결하려면 다음 중 하나를 수행합니다:\n",
    "\n",
    "1. 컨텍스트 재설정 (`USE DATABASE` 또는 `USE SCHEMA` 명령을 실행하는 것을 고려)\n",
    "\n",
    "1. 오브젝트를 참조할 때 긴(전체) 이름을 사용하세요. 예:`(animal)_GARDEN_PLANTS.VEGGIES.ROOT_DEPTH` _(데이터베이스.스키마.테이블)_"
   ]
  },
  {
   "cell_type": "markdown",
   "id": "15ee7d45-0fec-46b5-a878-e8e099955504",
   "metadata": {
    "collapsed": false,
    "name": "select_stars_and_limits"
   },
   "source": [
    "## Select Star 와 Limit 📓\n",
    "\n",
    "\"`SELECT *`\" (기술적으로 asterisk)로 시작하는 Select Star 구문은 \"Select Asterisk\"라고 말하는 것은 더 길기 때문에 보통 Select Star라고 부릅니다. Select Star는 테이블의 컬럼 이름을 하나씩 나열하지 않고도 모든 컬럼을 가져오는 간단한 방법입니다."
   ]
  },
  {
   "cell_type": "markdown",
   "id": "fdc46713-5d0c-47fb-9205-d05d398e6c8f",
   "metadata": {
    "collapsed": false,
    "name": "cell17"
   },
   "source": [
    "### 새 테이블에서 Select Star 실행하기 🥋\n",
    "\n",
    "다음 SQL 셀의 샘플 코드를 수정하여 `ROOT_DEPTH` 테이블의 모든 레코드를 Select 하는 쿼리를 작성해 보세요.\n",
    "\n",
    "- 아래 구문에서 해시 (`#`) 문자를 적절하게 변경하세요."
   ]
  },
  {
   "cell_type": "code",
   "execution_count": null,
   "id": "a60ac1fa-d323-42d1-bba3-aad892390f5e",
   "metadata": {
    "codeCollapsed": false,
    "collapsed": false,
    "language": "sql",
    "name": "cell18"
   },
   "outputs": [],
   "source": "-- modify this sample code\nSELECT * FROM ROOT_DEPTH;"
  },
  {
   "cell_type": "markdown",
   "id": "dd7d6f92-7a4b-4ac5-b3e2-a8a468c4ed9c",
   "metadata": {
    "collapsed": false,
    "name": "cell19"
   },
   "source": [
    "### Select star 변형 📓\n",
    "\n",
    "Select Star로 작업할 때, Snowflake는 입력을 최소화하면서 출력을 원하는 대로 조정하는데 도움이 될 수 있는 몇가지 SQL-sugar 옵션을 제공합니다. 이는 컬럼이 많은 테이블, 테이블 함수, 뷰와 작업할 때 매우 유용합니다. 쿼리를 위해 수십, 수백 개의 컬럼 이름을 수동으로 입력하는 것은 비효율적이므로, 시간을 더 잘 활용할 방법을 제공하는 옵션입니다!\n",
    "\n",
    "`SELECT *`를 지정할 때, 다음 옵션을 포함할 수 있습니다: `EXCLUDE`, `REPLACE`, `RENAME`, 그리고 `ILIKE`\n",
    "\n",
    "- `EXCLUDE`: 지정된 컬럼을 제외하고 모든 컬럼을 반환합니다.\n",
    "- `REPLACE`: 모든 컬럼을 반환하며, 지정된 컬럼의 값을 평가된 표현식으로 대체합니다.\n",
    "- `RENAME`:  모든 컬럼을 반환하며, 결과에 사용할 컬럼 별칭을 지정합니다.\n",
    "- `ILIKE`:   지정된 패턴과 일치하는 모든 컬럼을 반환합니다."
   ]
  },
  {
   "cell_type": "markdown",
   "id": "f8d5c07e-6228-4958-a94f-9926bddd857e",
   "metadata": {
    "collapsed": false,
    "name": "cell20"
   },
   "source": [
    "### 새 테이블에서 아래 예제를 실행하여 이러한 간단한 변형으로 컬럼 출력을 조정해 보세요"
   ]
  },
  {
   "cell_type": "code",
   "execution_count": null,
   "id": "d60250ef-2a5c-4d8a-bb6f-ce086a7fedd7",
   "metadata": {
    "codeCollapsed": false,
    "collapsed": false,
    "language": "sql",
    "name": "cell21"
   },
   "outputs": [],
   "source": [
    "-- return all columns from your table, except those in the exclusion list, using EXCLUDE\n",
    "\n",
    "SELECT * EXCLUDE (range_min, range_max)\n",
    "FROM ROOT_DEPTH;"
   ]
  },
  {
   "cell_type": "code",
   "execution_count": null,
   "id": "523769ae-15f3-45a2-b417-23a47bf4a5ff",
   "metadata": {
    "codeCollapsed": false,
    "collapsed": false,
    "language": "sql",
    "name": "cell22"
   },
   "outputs": [],
   "source": [
    "-- return all columns from your table, and append the String '-RDC' to the values in the root_depth_code column, using REPLACE\n",
    "\n",
    "SELECT * REPLACE (root_depth_code||'-RDC' AS root_depth_code)\n",
    "FROM ROOT_DEPTH;"
   ]
  },
  {
   "cell_type": "code",
   "execution_count": null,
   "id": "af0c75d9-af66-44c9-88fd-45bb26096608",
   "metadata": {
    "codeCollapsed": false,
    "collapsed": false,
    "language": "sql",
    "name": "cell23"
   },
   "outputs": [],
   "source": [
    "-- return all columns from your table, and change the title/header for the range columns, using RENAME\n",
    "\n",
    "SELECT * RENAME (range_min AS root_depth_range_min, \n",
    "                 range_max AS root_depth_range_max)\n",
    "FROM ROOT_DEPTH;"
   ]
  },
  {
   "cell_type": "code",
   "execution_count": null,
   "id": "beb777c1-95bc-4b69-93c5-a588df8e6f52",
   "metadata": {
    "codeCollapsed": false,
    "collapsed": false,
    "language": "sql",
    "name": "cell24"
   },
   "outputs": [],
   "source": [
    "-- return all columns from your table that contain the string `ROOT`, using ILIKE\n",
    "\n",
    "SELECT * ILIKE '%ROOT%'\n",
    "FROM ROOT_DEPTH;"
   ]
  },
  {
   "cell_type": "markdown",
   "id": "9a676605-2c46-4783-9cb9-7ad2f7169703",
   "metadata": {
    "collapsed": false,
    "name": "cell25"
   },
   "source": [
    "### Select Star 와 Limit 배우기 📓  \n",
    "\n",
    "모든 컬럼은 보고 싶지만 모든 행을 보고 싶지 않을 때는. `LIMIT`과 함께 Select Star를 실행할 수 있습니다. Limit을 사용하면 적은 수의 행만 가져오도록 제한할 수 있습니다. 이렇게 하면 행이 수백만 개일때, 몇개만 확인하려는 경우 불필요하게 모든 행을 가져와 컴퓨팅 리소스를 낭비하지 않게 됩니다.\n",
    "\n",
    "물론 지금은 테이블에 행이 한개 밖에 없지만, 이후에는 더 많은 행이 추가될 것입니다. 또한 이후에 더 많은 데이터를 로드한 새 테이블도 생성하게 될 것입니다."
   ]
  },
  {
   "cell_type": "code",
   "execution_count": null,
   "id": "a3b264f9-b358-409e-9484-600db36c7952",
   "metadata": {
    "language": "sql",
    "name": "cell26"
   },
   "outputs": [],
   "source": [
    "SELECT *\n",
    "FROM ROOT_DEPTH\n",
    "LIMIT 1;"
   ]
  },
  {
   "cell_type": "markdown",
   "id": "9ca382c3-c093-4418-ac4e-e12f4500a822",
   "metadata": {
    "collapsed": false,
    "name": "lesson_4_challenge_exercise"
   },
   "source": [
    "## Lesson 4 챌린지 실습🎯 \n",
    "\n",
    "### ROOT_DEPTH 테이블에 두 개의 행 추가하기 🎯 \n",
    "\n",
    "아래 SQL 셀에서 이전에 사용했던 `INSERT` 구문을 편집하고 둘다 실행하여, 두 개의 행을 **ROOT_DEPTH** 테이블에 추가합니다.\n",
    "\n",
    "- 해시 (`#`) 문자를 아래 이미지에서 확인할 수 있는 값으로 대체하세요.\n",
    "\n",
    "![ROOT_DEPTH add rows (image)](https://edu-cdev-images.s3.us-west-2.amazonaws.com/ob/ob_root_depth_add_rows_1.png)"
   ]
  },
  {
   "cell_type": "code",
   "execution_count": null,
   "id": "a25ba0dc-bb8f-425f-acb3-0c40db398682",
   "metadata": {
    "codeCollapsed": false,
    "collapsed": false,
    "language": "sql",
    "name": "cell28"
   },
   "outputs": [],
   "source": "-- Edit the values (replace the # characters) in the cell to match those in the SECOND row of the image above, then run \n\nINSERT INTO ROOT_DEPTH (\n    ROOT_DEPTH_ID,\n    ROOT_DEPTH_CODE,\n    ROOT_DEPTH_NAME,\n    UNIT_OF_MEASURE,\n    RANGE_MIN,\n    RANGE_MAX\n)\nVALUES (\n    2,\n    'M',\n    'Medium',\n    'cm',\n    45,\n    60\n);"
  },
  {
   "cell_type": "code",
   "execution_count": null,
   "id": "ef133f09-dd29-495a-abcf-905fbe27f8f1",
   "metadata": {
    "codeCollapsed": false,
    "collapsed": false,
    "language": "sql",
    "name": "cell29"
   },
   "outputs": [],
   "source": "-- Edit the values (replace the # characters) in the cell to match those in the THIRD row of the image above, then run\n\nINSERT INTO ROOT_DEPTH (\n    ROOT_DEPTH_ID,\n    ROOT_DEPTH_CODE,\n    ROOT_DEPTH_NAME,\n    UNIT_OF_MEASURE,\n    RANGE_MIN,\n    RANGE_MAX\n)\nVALUES (\n    3,\n    'D',\n    'Deep',\n    'cm',\n    30,\n    45\n);"
  },
  {
   "cell_type": "markdown",
   "id": "22f05c1b-9f4e-45c4-9b5d-b90f29afb72e",
   "metadata": {
    "collapsed": false,
    "name": "cell30"
   },
   "source": [
    "### 결과 검토 🥋\n",
    "\n",
    "- `SELECT *`를 실행하여 **ROOT_DEPTH** 테이블에 모두 3 개의 행이 있는지 확인하세요. \n",
    "\n",
    "- 위 이미지와 결과를 비교하세요."
   ]
  },
  {
   "cell_type": "code",
   "execution_count": null,
   "id": "a83f4c27-e6b1-4a92-9e2b-5b0fef63152b",
   "metadata": {
    "codeCollapsed": false,
    "collapsed": false,
    "language": "sql",
    "name": "cell31"
   },
   "outputs": [],
   "source": [
    "SELECT *\n",
    "FROM ROOT_DEPTH"
   ]
  },
  {
   "cell_type": "markdown",
   "id": "817eb7c5-88e8-49c7-abde-e51214589d8a",
   "metadata": {
    "collapsed": false,
    "name": "new_to_sql_need_some_help"
   },
   "source": [
    "## SQL이 처음이신가요? 도움이 필요하신가요? 아래 코드 샘플을 확인해 보세요 📓\n",
    "\n",
    "아래는 SQL을 사용해 특정 작업을 수행하는 방법을 보여주는 예제입니다. 필요에 맞게 편집하지 않고 그대로 실행하지는 마십시오.\n",
    "\n",
    "### Example one - 한 번에 여러 행 추가하기\n",
    "\n",
    "    INSERT INTO root_depth (\n",
    "    \n",
    "        root_depth_id, root_depth_code, root_depth_name, unit_of_measure, range_min, range_max)  \n",
    "\n",
    "    VALUES\n",
    "    \n",
    "        (5,'X','short','in',66,77),\n",
    "    \n",
    "        (8,'Y','tall','cm',98,99);\n",
    "\n",
    "    \n",
    "### Example two - 테이블에서 필요하지 않은 행 삭제하기\n",
    "\n",
    "    DELETE FROM root_depth\n",
    "\n",
    "    WHERE root_depth_id = 9;\n",
    "\n",
    "### Example three - 특정 행의 컬럼 값을 변경하기\n",
    "\n",
    "    UPDATE root_depth\n",
    "\n",
    "        SET root_depth_id = 7\n",
    "\n",
    "    WHERE root_depth_id = 9;\n",
    "\n",
    "### Example four - 테이블의 모든 행을 삭제하고 새로 시작하기\n",
    "\n",
    "    TRUNCATE TABLE root_depth;"
   ]
  },
  {
   "cell_type": "markdown",
   "id": "b020486e-58f9-4d85-8511-a76889cb5f34",
   "metadata": {
    "collapsed": false,
    "name": "lab_4_review"
   },
   "source": [
    "## Lab 4 검토 🏁 \n",
    "\n",
    "### Lab 5 준비가 되셨나요?\n",
    "\n",
    "- **(animal)_GARDEN_PLANTS** 데이터베이스에 4개의 스키마가 있나요? \n",
    "\n",
    "- **VEGGIES** 스키마에 **ROOT_DEPTH**라는 단일 테이블이 있고, 그 테이블에 3개의 행이 있나요?\n",
    "\n",
    "이 모든 질문에 **예**라고 대답할 수 있다면 다음 단계로 진행하세요. 그렇지 않다면, 잘못된 부분을 수정하고 다시 확인하세요!"
   ]
  },
  {
   "cell_type": "markdown",
   "id": "3635a7c7-ce2c-4a41-90e8-4ef0494db494",
   "metadata": {
    "collapsed": false,
    "name": "test_your_knowledge"
   },
   "source": [
    "## 지식 테스트 🔎\n",
    "\n",
    "아래 Python 셀을 실행하여 Streamlit 기반의 위젯을 표시하고 Snowflake 특징과 기능에 대한 질문에 답하세요. 지금은 이 코드가 무엇을 하는지 이해할 필요가 없습니다. 그냥 코드를 실행하세요.\n",
    "\n",
    "질문에 올바르게 답해야 다음 섹션으로 진행할 수 있습니다."
   ]
  },
  {
   "cell_type": "code",
   "execution_count": null,
   "id": "5f301ac5-6327-4d6a-ac63-050428fe5234",
   "metadata": {
    "codeCollapsed": false,
    "collapsed": false,
    "language": "python",
    "name": "cell35"
   },
   "outputs": [],
   "source": [
    "import streamlit as st\n",
    "st.divider()\n",
    "question = \"Snowflake가 테이블을 생성할 때 SQL에 약간의 변경을 가했습니다. 어떤 변경이 이루어졌습니까?\"\n",
    "options = [\"아래 보기 중 고르세요...\",\n",
    "           \"A) Snowflake가 테이블 이름을 변경했습니다.\", \n",
    "           \"B) Snowflake가 NUMBER 데이터 유형을 VARCHAR로 변환했습니다.\", \n",
    "           \"C) Snowflake가 TEXT 데이터 유형을 VARCHAR로 변환했습니다.\",\n",
    "           \"D) Snowflake가 소유자를 SYSADMIN으로 변경했습니다.\"]\n",
    "\n",
    "user_answer = st.radio(question, options, index=0)\n",
    "if user_answer:\n",
    "    if user_answer == \"아래 보기 중 고르세요...\":\n",
    "        ''\n",
    "    else:\n",
    "        answer = '789a492d8fbb0cab5d05673117e56326'\n",
    "        response = session.sql(f\"call common_db.resources.quiz_temp('{answer}', '{user_answer}', 'False')\").collect()\n",
    "        if response:\n",
    "            value = response[0]['QUIZ_TEMP']\n",
    "        st.write(value)"
   ]
  },
  {
   "cell_type": "code",
   "execution_count": null,
   "id": "1bc31ace-a6f0-4da5-8a64-7f7895c9ff98",
   "metadata": {
    "codeCollapsed": false,
    "collapsed": false,
    "language": "python",
    "name": "cell36"
   },
   "outputs": [],
   "source": [
    "st.divider()\n",
    "question = \"노트북에서 테이블의 데이터를 어떻게 미리 볼 수 있습니까?\"\n",
    "options = [\"아래 보기 중 고르세요...\",\n",
    "           \"A) 오브젝트 선택기에서 테이블을 찾은 후 테이블 이름을 클릭하고, 돋보기 아이콘을 클릭합니다.\", \n",
    "           \"B) 노트북 컨텍스트의 TABLE 드롭다운 메뉴를 PREVIEW로 설정합니다. 이는 데이터 미리보기를 위해 설계되었습니다.\", \n",
    "           \"C) 노트북 컨텍스트의 ROLE 드롭다운 메뉴를 PUBLIC으로 설정합니다. 이는 데이터 미리보기를 위해 설계되었습니다.\",\n",
    "           \"D) 테이블 이름을 마우스 오른쪽 버튼으로 클릭한 후 \\\"Table Preview Now\\\" 옵션을 선택합니다.\"]\n",
    "\n",
    "user_answer = st.radio(question, options, index=0)\n",
    "if user_answer:\n",
    "    if user_answer == \"아래 보기 중 고르세요...\":\n",
    "        ''\n",
    "    else:\n",
    "        answer = '924f28ec9c53c5b2badabfa308999bc3'\n",
    "        response = session.sql(f\"call common_db.resources.quiz_temp('{answer}', '{user_answer}', 'False')\").collect()\n",
    "        if response:\n",
    "            value = response[0]['QUIZ_TEMP']\n",
    "        st.write(value)"
   ]
  },
  {
   "cell_type": "code",
   "execution_count": null,
   "id": "373207e2-391a-430f-9f83-eb653eaa980f",
   "metadata": {
    "codeCollapsed": false,
    "collapsed": false,
    "language": "python",
    "name": "cell37"
   },
   "outputs": [],
   "source": [
    "st.divider()\n",
    "question = \"SELECT 구문에서 LIMIT의 역할은 무엇입니까?\"\n",
    "options = [\"아래 보기 중 고르세요...\",\n",
    "           \"A) 제한된 행 집합을 빠르게 요청하는 데 사용할 수 있습니다.\", \n",
    "           \"B) 제한된 테이블 집합을 빠르게 요청하는 데 사용할 수 있습니다.\", \n",
    "           \"C) 제한된 컬럼 집합을 빠르게 요청하는 데 사용할 수 있습니다.\",\n",
    "           \"D) 제한된 스키마 집합을 빠르게 요청하는 데 사용할 수 있습니다.\"]\n",
    "\n",
    "user_answer = st.radio(question, options, index=0)\n",
    "if user_answer:\n",
    "    if user_answer == \"아래 보기 중 고르세요...\":\n",
    "        ''\n",
    "    else:\n",
    "        answer = '48886ffd3988718c32175f5c675fe4d7'\n",
    "        response = session.sql(f\"call common_db.resources.quiz_temp('{answer}', '{user_answer}', 'False')\").collect()\n",
    "        if response:\n",
    "            value = response[0]['QUIZ_TEMP']\n",
    "        st.write(value)"
   ]
  },
  {
   "cell_type": "code",
   "execution_count": null,
   "id": "63013092-07d9-42ab-885c-0c107eee9e71",
   "metadata": {
    "codeCollapsed": false,
    "collapsed": false,
    "language": "python",
    "name": "cell38"
   },
   "outputs": [],
   "source": [
    "st.divider()\n",
    "question = \"이전에 생성된 ROOT_DEPTH 테이블의 소유자는 어떤 역할이어야 합니까?\"\n",
    "options = [\"아래 보기 중 고르세요...\",\n",
    "           \"A) ACCOUNTADMIN\", \n",
    "           \"B) SYSADMIN\", \n",
    "           \"C) PUBLIC\",\n",
    "           \"D) (animal)_LEARNER_RL\"]\n",
    "\n",
    "user_answer = st.radio(question, options, index=0)\n",
    "if user_answer:\n",
    "    if user_answer == \"아래 보기 중 고르세요...\":\n",
    "        ''\n",
    "    else:\n",
    "        answer = 'd249e599063c3525e1566593f7b2ffb3'\n",
    "        response = session.sql(f\"call common_db.resources.quiz_temp('{answer}', '{user_answer}', 'False')\").collect()\n",
    "        if response:\n",
    "            value = response[0]['QUIZ_TEMP']\n",
    "        st.write(value)"
   ]
  },
  {
   "cell_type": "markdown",
   "id": "7ddcbca4-75c4-4e72-bf75-f1f80a7253a6",
   "metadata": {
    "collapsed": false,
    "name": "next_steps"
   },
   "source": [
    "## 다음 단계\n",
    "\n",
    "실습 단계를 완료하고 **지식 테스트** 질문에 올바르게 답했다면, Snowflake 강사의 안내에 따라 다음 노트북으로 진행하세요."
   ]
  }
 ]
}