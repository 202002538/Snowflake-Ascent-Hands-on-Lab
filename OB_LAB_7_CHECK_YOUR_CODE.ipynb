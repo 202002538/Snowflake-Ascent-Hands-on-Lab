{
 "metadata": {
  "kernelspec": {
   "display_name": "Streamlit Notebook",
   "name": "streamlit"
  },
  "lastEditStatus": {
   "notebookId": "py35ei5nvfvwq7zw7ko2",
   "authorId": "",
   "authorName": "",
   "sessionId": "34750fad-880e-4d6a-895f-8a5a597937b1",
   "lastEditTime": 0
  }
 },
 "nbformat_minor": 5,
 "nbformat": 4,
 "cells": [
  {
   "cell_type": "markdown",
   "id": "3775908f-ca36-4846-8f38-5adca39217f2",
   "metadata": {
    "collapsed": false,
    "name": "lab_7_check_your_code",
    "resultHeight": 259
   },
   "source": [
    "# Lab 7: 코드 확인\n",
    "\n",
    "## 코드 확인 준비\n",
    "\n",
    "먼저 이 실습 전반에 걸쳐 사용할 **컨텍스트 정보**를 가져오갰습니다. \n",
    "\n",
    "- **Start** 버튼을 클릭하여 이 노트북을 활성화합니다.\n",
    "\n",
    "- 아래 Python 셀을 실행합니다."
   ]
  },
  {
   "cell_type": "markdown",
   "id": "1e57cc1e-a123-48cd-87a5-4157d85d9f84",
   "metadata": {
    "collapsed": false,
    "name": "cell2",
    "resultHeight": 66
   },
   "source": [
    "#### :warning: 이 노트북에서 새 세션이 시작될 때마다, 이후 셀에서 사용할 \"변수\"를 설정하려면 아레 셀을 다시 실행해야 합니다. :warning:"
   ]
  },
  {
   "cell_type": "code",
   "execution_count": null,
   "id": "57d4c317-294a-4131-9d03-7d5b8d0bb17c",
   "metadata": {
    "collapsed": false,
    "language": "python",
    "name": "cell3",
    "resultHeight": 0
   },
   "outputs": [],
   "source": [
    "from snowflake.snowpark.context import get_active_session\n",
    "session = get_active_session()\n",
    "user = session.get_current_user().strip('\"')\n",
    "your_db = user + '_DB'\n",
    "print('Your current CONTEXT information:')\n",
    "print('---------------------------------')\n",
    "print(session)\n",
    "print('Your current USER is ' + user)"
   ]
  },
  {
   "cell_type": "markdown",
   "id": "8fba1c3a-eae9-4dd2-afb9-7f89dfdcc9d4",
   "metadata": {
    "collapsed": false,
    "name": "cell4",
    "resultHeight": 264
   },
   "source": [
    "### INFORMATION_SCHEMA를 사용한 메타데이터 쿼리 🥋\n",
    "\n",
    "\"메타데이터\"는 \"데이터에 대한 데이터\"를 의미합니다. \n",
    "\n",
    "모든 Snowflake 데이터베이스에 생성되는 `INFORMATION_SCHEMA`는 메타데이터를 보관합니다. 즉, 데이터베이스, 스키마, 테이블, 뷰 등의 수에 대한 통계와 오브젝트 이름 및 기타 세부정보를 포함하고 있습니다.\n",
    "\n",
    "`INFORMATION_SCHEMA`를 사용하면 작업을 이중으로 확인하고 작업이 올바르게 완료되었는지 검증할 수 있습니다.\n",
    "\n",
    "지금까지 작업했던 **(animal)_GARDEN_PLANTS** 데이터베이스의 모든 스키마를 조회하기 위해, 해당 데이터베이스의 `INFORMATION_SCHEMA`를 쿼리해 보겠습니다."
   ]
  },
  {
   "cell_type": "code",
   "execution_count": null,
   "id": "1aa25ac6-8fb5-476b-a6ef-fcbd8402bbe7",
   "metadata": {
    "collapsed": false,
    "language": "sql",
    "name": "cell5",
    "resultHeight": 0
   },
   "outputs": [],
   "source": [
    "SELECT * \n",
    "FROM {{user}}_garden_plants.information_schema.schemata;"
   ]
  },
  {
   "cell_type": "markdown",
   "id": "ca373c80-58bb-4b45-bd4a-923b8e2b6489",
   "metadata": {
    "collapsed": false,
    "name": "cell6",
    "resultHeight": 232
   },
   "source": [
    "### 작업 확인을 위한 코드 실행 🥋 \n",
    "\n",
    "**(animal)_GARDEN_PLANTS** 데이터베이스에 3개의 스키마를 설정하고, 하나의 스키마를 삭제하라는 요청을 받았었습니다. 해당 작업이 완료되었는지 확인하기 위해 코드를 실행해 봅시다.\n",
    "\n",
    "💡 **팁**: 다음 확인 코드는 [CTE (common table expression)](https://docs.snowflake.com/ko/user-guide/queries-cte) 구조를 사용합니다. CTE는 SQL 구문 내에서 사용할 수 있는 \"temporary view\"로 생각할 수 있습니다. CTE는 복잡한 SQL 문을 나누어 가독성을 높이고 관리하기 쉽게 만드는 데 특히 유용합니다. 논리를 별도의 재사용 가능한 파트로 구성함으로써 쿼리 구조를 단순화하고, 명확성을 높이며, 유지 관리를 용이하게 합니다."
   ]
  },
  {
   "cell_type": "code",
   "execution_count": null,
   "id": "4580556b-712b-46b4-9fed-6fd0eaf275cd",
   "metadata": {
    "collapsed": false,
    "language": "sql",
    "name": "cell7",
    "resultHeight": 0
   },
   "outputs": [],
   "source": [
    "WITH schema_check_1 AS (\n",
    "    -- do the following three schemas exist?\n",
    "    SELECT COUNT(*) AS count_1\n",
    "    FROM {{user}}_garden_plants.information_schema.schemata\n",
    "    WHERE schema_name IN ('FLOWERS','VEGGIES','FRUITS')\n",
    "),\n",
    "schema_check_2 AS (   \n",
    "    -- the following schema SHOULD NOT exist (count of zero)\n",
    "    SELECT COUNT(*) AS count_2\n",
    "    FROM {{user}}_garden_plants.information_schema.schemata\n",
    "    WHERE schema_name = ('PUBLIC')\n",
    ") \n",
    "SELECT IFF((count_1=3) AND (count_2=0),'\\u2705 Correct','\\u26D4 Incorrect. Please review and try again') AS schema_check\n",
    "from schema_check_1, schema_check_2;"
   ]
  },
  {
   "cell_type": "markdown",
   "id": "050b816b-17bd-42e0-9263-d4ac1a8c10af",
   "metadata": {
    "collapsed": false,
    "name": "how_many_schemas",
    "resultHeight": 519
   },
   "source": [
    "## (animal)_GARDEN PLANTS 데이터베이스에 몇 개의 스키마가 있나요? \n",
    "\n",
    "### 내가 무엇을 잘못했을까요? 📓 \n",
    "\n",
    "위의 쿼리를 실행했는데 실패가 보고되었나요? 다음과 같은 실수일 가능성이 있습니다:\n",
    "\n",
    "- \"VEGGIES\" 대신 \"WEGGIES\"를 사용한 것처럼 스키마 이름에 오타가 있을 수 있습니다.\n",
    "\n",
    "- (user)_GARDEN_PLANTS 대신 UTIL_DB에 처럼 잘못된 데이터베이스에 스키마를 생성했을 수도 있습니다.\n",
    "\n",
    "- `(animal)_LEARNER_RL` 역할로 오브젝트를 생성했지만, 워크시트의 역할이 `PUBLIC`로 설정되어 있는 것처럼, 역할이 제대로 설정되지 않아 오브젝트를 볼 수 없을 수 있습니다. \n",
    "\n",
    "---\n",
    "\n",
    "### 어떻게 수정할 수 있을까요? 📓 \n",
    "\n",
    "**오타**: `ALTER SCHEMA (animal)_GARDEN_PLANTS.WEGGIES RENAME TO (animal)_GARDEN_PLANTS.VEGGIES;`\n",
    "\n",
    "**잘못된 위치**: `ALTER SCHEMA DEMO_DB.VEGGIES RENAME TO (animal)_GARDEN_PLANTS.VEGGIES;`\n",
    "\n",
    "**찾을 수 없음**: 워크시트의 역할 설정을 변경하거나 오브젝트의 소유권을 이전하세요. "
   ]
  },
  {
   "cell_type": "markdown",
   "id": "7a182c83-f575-4084-acc6-76300ea780df",
   "metadata": {
    "collapsed": false,
    "name": "cell9",
    "resultHeight": 113
   },
   "source": [
    "### 스키마 이름 확인 🥋 \n",
    "\n",
    "이제 생성한 스키마의 이름이 올바른지 확인해 보겠습니다. 아래 코드를 실행했을 때 결과가 **3**개 행으로 반환되지 않는 다면, 스키마 이름이 다르게 지정되었을 가능성이 있습니다."
   ]
  },
  {
   "cell_type": "code",
   "execution_count": null,
   "id": "5b1eefe2-aec9-4b20-b47c-fdce868ae9bf",
   "metadata": {
    "collapsed": false,
    "language": "sql",
    "name": "cell10",
    "resultHeight": 0
   },
   "outputs": [],
   "source": [
    "SELECT schema_name \n",
    "FROM {{user}}_GARDEN_PLANTS.INFORMATION_SCHEMA.SCHEMATA\n",
    "WHERE schema_name IN ('FLOWERS','FRUITS','VEGGIES');"
   ]
  },
  {
   "cell_type": "markdown",
   "id": "b330d09c-cfbb-48e9-8a5a-daac841aec13",
   "metadata": {
    "collapsed": false,
    "name": "check_your_work",
    "resultHeight": 180
   },
   "source": [
    "## 작업 확인🔎\n",
    "\n",
    "### :mag_right: Check 1 (OB01)\n",
    "\n",
    "- Garden Plant 데이터베이스에 3개의 스키마(**FLOWERS**, **VEGGIES**, **FRUITS**)를 생성했나요?\n",
    "- 작업을 확인하려면 채점용 Stored Procedure를 호출하세요."
   ]
  },
  {
   "cell_type": "code",
   "execution_count": null,
   "id": "39485ace-857f-4c74-b7b2-d269d659df14",
   "metadata": {
    "collapsed": false,
    "language": "sql",
    "name": "cell12",
    "resultHeight": 0
   },
   "outputs": [],
   "source": [
    "CALL common_db.resources.local_grader('OB01', '{{user}}');"
   ]
  },
  {
   "cell_type": "markdown",
   "id": "fcf3b2e6-defe-49bb-af87-c2b25e9e85c8",
   "metadata": {
    "collapsed": false,
    "name": "cell13",
    "resultHeight": 120
   },
   "source": [
    "### :mag_right: Check 2 (OB02) 🔎\n",
    "\n",
    "- Garden Plant 데이터베이스의 **PUBLIC** 스키마를 삭제(Drop)했나요?\n",
    "- 작업을 확인하려면 채점용 Stored Procedure를 호출하세요."
   ]
  },
  {
   "cell_type": "code",
   "execution_count": null,
   "id": "8339c443-793c-4019-b64f-340c78d812eb",
   "metadata": {
    "codeCollapsed": false,
    "collapsed": false,
    "language": "sql",
    "name": "cell14",
    "resultHeight": 0
   },
   "outputs": [],
   "source": [
    "CALL common_db.resources.local_grader('OB02', '{{user}}');"
   ]
  },
  {
   "cell_type": "markdown",
   "id": "e548f303-9b26-4a58-8908-6abd3d703056",
   "metadata": {
    "collapsed": false,
    "name": "cell15",
    "resultHeight": 120
   },
   "source": [
    "### :mag_right: Check 3 (OB03) 🔎\n",
    "\n",
    "- Garden Plant 데이터베이스 **VEGGIES** 스키마에 **ROOT_DEPTH** 테이블을 생성했나요?\n",
    "- 작업을 확인하려면 채점용 Stored Procedure를 호출하세요."
   ]
  },
  {
   "cell_type": "code",
   "execution_count": null,
   "id": "53b4821e-a984-4412-9358-48298c1d96ac",
   "metadata": {
    "collapsed": false,
    "language": "sql",
    "name": "cell16",
    "resultHeight": 0
   },
   "outputs": [],
   "source": [
    "CALL common_db.resources.local_grader('OB03', '{{user}}');"
   ]
  },
  {
   "cell_type": "markdown",
   "id": "ad2408e0-f948-4290-a4f5-4a82b0d8262e",
   "metadata": {
    "collapsed": false,
    "name": "cell17",
    "resultHeight": 155
   },
   "source": [
    "### Query History를 사용하여 테스트 결과 검토 📓\n",
    "\n",
    "Snowflake는 시스템에서 실행된 쿼리와 구문의 기록을 보관하며, 이를 Query History라고 합니다. Query History는 사용자 인터페이스(UI)와 프로그래밍 방식을 통해 접근할 수 있습니다. Query History는 자신(또는 권한이 있는 다른 사용자)이 실행한 쿼리를 시간별로 확인할 수 있는 편리한 장소를 제공합니다.\n",
    "\n",
    "Snowflake Notebook의 셀에서 Query History에 접근할 수 있습니다."
   ]
  },
  {
   "cell_type": "markdown",
   "id": "523fa3b4-9a23-4ee0-95fd-e709159916c0",
   "metadata": {
    "collapsed": false,
    "name": "cell18",
    "resultHeight": 1211
   },
   "source": [
    "### Snowflake Notebook SQL 셀에서 Query History 접근하기 🥋\n",
    "\n",
    "1. 방금 실행한 **Check 3** SQL 셀에서 쿼리 실행 시간 표시에 마우스 커서를 올려놓으세요.\n",
    "1. **View run details** 메시지가 나타납니다.\n",
    "1. 쿼리 실행 시간 표시를 클릭하면 대화 상자가 나타납니다.\n",
    "1. 파란색 **ID** 필드 UUID를 클릭합니다. 이 필드는 Snowsight Query History 페이지로 연결됩니다.\n",
    "1. 새 브라우저 창에서 Snowsight Query History 페이지가 열립니다.\n",
    "\n",
    "![Access query history (image)](https://edu-cdev-images.s3.us-west-2.amazonaws.com/ob/ob_query_history_1.png)\n",
    "\n",
    "1. **Query Profile** 화면이 열리며, 여기에서 쿼리의 실행 단계를 검토할 수 있습니다.\n",
    "1. 화면 상단의 **Query Details** 탭을 클릭합니다.\n",
    "1. 쿼리 실행과 관련된 다양한 세부 정보를 검토합니다.\n",
    "1. 페이지 하단의 **Results** 섹션을 검토합니다. \n",
    "\n",
    "![Query details (image)](https://edu-cdev-images.s3.us-west-2.amazonaws.com/ob/ob_query_details_1.png)\n",
    "\n",
    ":warning: Query Details(Query History)의 Result 섹션에서 Check 3에 대한 초록색 체크 표시 ✅ 를 확인하기 전까지는 다음 단계로 **진행하지 마세요**. :warning:"
   ]
  },
  {
   "cell_type": "markdown",
   "id": "79adf10d-672c-499b-94ad-097fc08103ee",
   "metadata": {
    "collapsed": false,
    "name": "cell19",
    "resultHeight": 222
   },
   "source": [
    "### Query History를 프로그래밍 방식으로 액세스하기 🥋\n",
    "\n",
    "우리는 코드 사용을 통해 Query History 정보를 검색할 수 있으며, Python과 SQL 모두에서 사용할 수 있는 옵션이 있습니다.\n",
    "\n",
    "`INFORMATION_SCHEMA`는 다양한 차원에서 Snowflake Query History를 쿼리할 수 있는 [테이블 함수](https://docs.snowflake.com/ko/sql-reference/functions/query_history) 모음을 포함하고 있습니다. 다음 예제에서는 `QUERY_HISTORY_BY_USER()`를 사용하여 지난 7일 동안 사용자(여러분!)가 제출한 쿼리를 반환하게 합니다.\n",
    "\n",
    "우리는 **Lab 6: The Load Wizard 및 Snowflake Marketplace**에서 실행한 특정 `DELETE` 작업을 식별할 것입니다. 이 작업에서 **VEGETABLE_DETAILS** 테이블에서 단일 행을 제거했었습니다. (...plant_name = 'Spinach' AND root_depth_code = 'D')."
   ]
  },
  {
   "cell_type": "code",
   "execution_count": null,
   "id": "b8541bab-c4e1-4f36-a193-80af93ef730c",
   "metadata": {
    "collapsed": false,
    "language": "sql",
    "name": "cell20",
    "resultHeight": 0
   },
   "outputs": [],
   "source": [
    "SELECT *\n",
    "FROM TABLE(information_schema.query_history_by_user(\n",
    "    USER_NAME => '{{user}}',\n",
    "    RESULT_LIMIT => 10000\n",
    "))\n",
    "WHERE query_type = 'DELETE'\n",
    "AND execution_status = 'SUCCESS'\n",
    "ORDER BY end_time DESC\n",
    "LIMIT 1;"
   ]
  },
  {
   "cell_type": "markdown",
   "id": "3835a681-3238-416d-868d-bcd321a77be3",
   "metadata": {
    "collapsed": false,
    "name": "cell21",
    "resultHeight": 108
   },
   "source": [
    "이 작업의 Query ID를 SQL 변수에 저장하여 이번 실습에서 나중에 사용할 수 있도록 하겠습니다.\n",
    "\n",
    "**:warning: `INFORMATION_SCHEMA.QUERY_HISTORY_BY_USER`와 그 변형은 데이터를 7일 동안만 보관합니다. 이 기간 외에 실행된 쿼리의 경우 결과를 반환하지 않습니다. 이 경우 Lab 6의 단계를 다시 완료해야합니다. :warning:**"
   ]
  },
  {
   "cell_type": "code",
   "execution_count": null,
   "id": "54198646-876e-4b25-8564-317094961687",
   "metadata": {
    "collapsed": false,
    "language": "sql",
    "name": "cell22",
    "resultHeight": 0
   },
   "outputs": [],
   "source": [
    "SET delete_query_id = (\n",
    "    SELECT query_id\n",
    "    FROM TABLE(information_schema.query_history_by_user(\n",
    "        USER_NAME => '{{user}}',\n",
    "        RESULT_LIMIT => 10000\n",
    "    ))\n",
    "    WHERE query_type = 'DELETE'\n",
    "    AND execution_status = 'SUCCESS'\n",
    "    ORDER BY end_time DESC\n",
    "    LIMIT 1\n",
    ");\n",
    "\n",
    "SELECT $delete_query_id;"
   ]
  },
  {
   "cell_type": "markdown",
   "id": "55e812b2-c6fc-4793-a499-48989446440c",
   "metadata": {
    "collapsed": false,
    "name": "cell23",
    "resultHeight": 120
   },
   "source": [
    "### :mag_right: Check 4 (OB04) 🔎\n",
    "\n",
    "- 데이터베이스 **(animal)_UTIL_DB**에 정확히 2개의 스키마가 포함되어 있습니까?\n",
    "- 작업을 확인하려면 채점용 Stored Procedure를 호출하세요."
   ]
  },
  {
   "cell_type": "code",
   "execution_count": null,
   "id": "2ea2e370-8392-4133-b1bf-97b5cd96fa12",
   "metadata": {
    "collapsed": false,
    "language": "sql",
    "name": "cell24",
    "resultHeight": 0
   },
   "outputs": [],
   "source": [
    "CALL common_db.resources.local_grader('OB04', '{{user}}');"
   ]
  },
  {
   "cell_type": "markdown",
   "id": "d5b3bc9a-658e-4ed5-a22c-ed997c0b9452",
   "metadata": {
    "collapsed": false,
    "name": "cell25",
    "resultHeight": 120
   },
   "source": [
    "### :mag_right: Check 5 (OB05) 🔎\n",
    "\n",
    "- Garden Plant 데이티베이스의 **VEGGIES** 스키마에 **VEGETABLE_DETAILS** 테이블을 생성했습니까?\n",
    "- 작업을 확인하려면 채점용 Stored Procedure를 호출하세요."
   ]
  },
  {
   "cell_type": "code",
   "execution_count": null,
   "id": "b11fcb70-b0f3-498e-ae6a-32c7e0988298",
   "metadata": {
    "collapsed": false,
    "language": "sql",
    "name": "cell26",
    "resultHeight": 0
   },
   "outputs": [],
   "source": [
    "CALL common_db.resources.local_grader('OB05', '{{user}}');"
   ]
  },
  {
   "cell_type": "markdown",
   "id": "c8556419-cb57-4fc0-bf81-0860a6c12f97",
   "metadata": {
    "collapsed": false,
    "name": "cell27",
    "resultHeight": 120
   },
   "source": [
    "### Check 6 (OB06) 🔎\n",
    "\n",
    "- **ROOT_DEPTH** 테이블에 **3**개의 행이 있나요?\n",
    "- 작업을 확인하려면 채점용 Stored Procedure를 호출하세요."
   ]
  },
  {
   "cell_type": "code",
   "execution_count": null,
   "id": "fbe96bb3-eb1f-4ae0-b1a1-62e5be4fff8e",
   "metadata": {
    "collapsed": false,
    "language": "sql",
    "name": "cell28",
    "resultHeight": 0
   },
   "outputs": [],
   "source": [
    "CALL common_db.resources.local_grader('OB06', '{{user}}');  "
   ]
  },
  {
   "cell_type": "markdown",
   "id": "9fe0e322-5684-4958-a160-f260eb0caec0",
   "metadata": {
    "collapsed": false,
    "name": "cell29",
    "resultHeight": 120
   },
   "source": [
    "### Check 7 (OB07) 🔎\n",
    "\n",
    "- **VEGETABLE_DETAILS** 테이블에 **41** 개의 행이 있나요?\n",
    "- 작업을 확인하려면 채점용 Stored Procedure를 호출하세요."
   ]
  },
  {
   "cell_type": "code",
   "execution_count": null,
   "id": "d83ae44a-ce7c-4073-875c-0182e1d59d80",
   "metadata": {
    "collapsed": false,
    "language": "sql",
    "name": "cell30",
    "resultHeight": 0
   },
   "outputs": [],
   "source": [
    "CALL common_db.resources.local_grader('OB07', '{{user}}'); "
   ]
  },
  {
   "cell_type": "markdown",
   "id": "5f72b8fe-30b0-4f60-b7f9-d5b35540d8be",
   "metadata": {
    "collapsed": false,
    "name": "cell31",
    "resultHeight": 220
   },
   "source": [
    "## Time Travel 📓\n",
    "\n",
    "Snowflake Time Travel 기능은 특정 기간 내의 과거 데이터(즉, 변경되거나, 삭제된 데이터)에 액세스할 수 있도록 해줍니다. Time Travel을 지원하기 위해 여러 [SQL 확장](https://docs.snowflake.com/ko/user-guide/data-time-travel#time-travel-sql-extensions)기능이 제공됩니다.\n",
    "\n",
    "데이터가 삭제되거나 데이터를 포함한 오브젝트가 삭제(drop)되는 것을 포함하여 테이블의 데이터가 변경된 경우, Snowflake는 업데이트 이전의 데이터 상태를 보존합니다. `DATA_RETENTION_TIME_IN_DAYS`라는 파라미터는 이 과거 데이터가 보존되는 일수를 지정하며, 이를 통해 Time Travel 작업(`SELECT`, `CREATE` … `CLONE`, `UNDROP`)을 수행할 수 있습니다."
   ]
  },
  {
   "cell_type": "markdown",
   "id": "c7d792f9-8efe-4b0a-9112-195ab0b0bc07",
   "metadata": {
    "collapsed": false,
    "name": "cell32",
    "resultHeight": 350
   },
   "source": [
    "### **VEGETABLE_DETAILS** 테이블의 과거 버전 조회 🥋\n",
    "\n",
    "**Lab 6: The Load Wizard 및 Snowflake Marketplace** 초반에 **VEGETABLE_DETAILS** 테이블을 생성할 때, 데이터 보존 기간이 7일로 설정되어 있었습니다. 이는 테이블에서 수행된 모든 변경 사항이 7일 동안 유지됨을 의미합니다. 이를 통해 테이블에 관련하여 특정 시점이나 작업 이전 상태의 데이터를 확인할 수 있도록 해줍니다.\n",
    "\n",
    "**Lab 6**에서, **VEGETABLE_DETAILS** 테이블에서 두 번째 Spinach 행을 삭제했습니다. 이번 실습의 앞부분에서 해당 작업과 연관된 Query ID를 식별하고, 이를 로컬 변수 `$delete_query_id`에 저장했습니다. Time Travel을 사용하여 이 작업 이전의 데이터를 확인할 수 있습니다.\n",
    "\n",
    "아래 코드를 실행하여 테이블의 `DELETE` 작업 이전의 Spinach 행과 현재 버전에 있는 Spinach 데이터를 **UNION**해서 조회합니다. Time Travel을 사용하여 과거 데이터를 쿼리하기 위해 사용된 [특수 구문](https://docs.snowflake.com/ko/user-guide/data-time-travel#querying-historical-data)을 참고하세요: `BEFORE( STATEMENT => $delete_query_id )`"
   ]
  },
  {
   "cell_type": "code",
   "execution_count": null,
   "id": "947c70a3-ebb3-49a9-9d9d-83c56d1d9fe9",
   "metadata": {
    "collapsed": false,
    "language": "sql",
    "name": "cell33",
    "resultHeight": 0
   },
   "outputs": [],
   "source": [
    "-- Time Travel query \n",
    "SELECT plant_name, root_depth_code, 'HISTORICAL (Time Travel)' as table_version \n",
    "FROM {{user}}_garden_plants.veggies.vegetable_details\n",
    "BEFORE( STATEMENT => $delete_query_id )\n",
    "WHERE plant_name = 'Spinach'\n",
    "\n",
    "UNION\n",
    "\n",
    "-- current version query\n",
    "SELECT plant_name, root_depth_code, 'CURRENT' as table_version\n",
    "FROM {{user}}_garden_plants.veggies.vegetable_details\n",
    "WHERE plant_name = 'Spinach';"
   ]
  },
  {
   "cell_type": "markdown",
   "id": "d1b24261-0477-4040-9e7a-c25e279dde02",
   "metadata": {
    "collapsed": false,
    "name": "test_your_knowledge",
    "resultHeight": 169
   },
   "source": [
    "## 지식 테스트 :mag_right:\n",
    "\n",
    "아래 Python 셀을 실행하여 Streamlit 기반의 위젯을 표시하고 Snowflake 인터페이스에 대한 질문에 답하세요. 지금은 이 코드가 무엇을 하는지 이해할 필요가 없습니다. 그냥 코드를 실행하세요.\n",
    "\n",
    "질문에 올바르게 답해야 다음 섹션으로 진행할 수 있습니다."
   ]
  },
  {
   "cell_type": "code",
   "execution_count": null,
   "id": "cdff4fb2-bd56-4849-82e4-c7243f6acd12",
   "metadata": {
    "collapsed": false,
    "language": "python",
    "name": "cell35",
    "resultHeight": 0
   },
   "outputs": [],
   "source": [
    "import streamlit as st\n",
    "st.divider()\n",
    "question = \"메타데이터의 정의는 무엇입니까?\"\n",
    "options = [\"아래 보기 중 고르세요...\",\n",
    "           \"A) 메타에 관한 데이터입니다.\", \n",
    "           \"B) 다른 데이터 위에 있는 데이터입니다.\", \n",
    "           \"C) 데이터에 관한 데이터입니다.\"]\n",
    "\n",
    "user_answer = st.radio(question, options, index=0)\n",
    "if user_answer:\n",
    "    if user_answer == \"아래 보기 중 고르세요...\":\n",
    "        ''\n",
    "    else:\n",
    "        answer = '44f0134bdf8040c4f1274e360a615f40'\n",
    "        response = session.sql(f\"call common_db.resources.quiz_temp('{answer}', '{user_answer}', 'False')\").collect()\n",
    "        if response:\n",
    "            value = response[0]['QUIZ_TEMP']\n",
    "        st.write(value)"
   ]
  },
  {
   "cell_type": "code",
   "execution_count": null,
   "id": "67c82a3b-808c-4bcf-ac2b-f10f3ef72557",
   "metadata": {
    "collapsed": false,
    "language": "python",
    "name": "cell36",
    "resultHeight": 0
   },
   "outputs": [],
   "source": [
    "st.divider()\n",
    "question = \"Snowflake는 일부 메타데이터를 어디에 저장합니까?\"\n",
    "options = [\"아래 보기 중 고르세요...\",\n",
    "           \"A) 각 계정의 INFORMATION_DB 데이터베이스에 저장합니다.\", \n",
    "           \"B) 각 데이터베이스의 METADATA_SCHEMA에 저장합니다.\", \n",
    "           \"C) 각 데이터베이스의 INFO_METADATA 스키마에 저장합니다.\",\n",
    "           \"D) 각 데이터베이스의 INFORMATION_SCHEMA 스키마에 저장합니다.\"]\n",
    "\n",
    "user_answer = st.radio(question, options, index=0)\n",
    "if user_answer:\n",
    "    if user_answer == \"아래 보기 중 고르세요...\":\n",
    "        ''\n",
    "    else:\n",
    "        answer = '447a7f80b1d7200de9d1ffafdf15e61d'\n",
    "        response = session.sql(f\"call common_db.resources.quiz_temp('{answer}', '{user_answer}', 'False')\").collect()\n",
    "        if response:\n",
    "            value = response[0]['QUIZ_TEMP']\n",
    "        st.write(value)"
   ]
  },
  {
   "cell_type": "code",
   "execution_count": null,
   "id": "af7f295a-1399-4357-aa20-d1b6b56bb501",
   "metadata": {
    "collapsed": false,
    "language": "python",
    "name": "cell37",
    "resultHeight": 0
   },
   "outputs": [],
   "source": [
    "st.divider()\n",
    "question = \"생성한 스키마를 확인하려면 직접 눈으로 확인하면 안되는 이유는 무엇입니까?\"\n",
    "options = [\"아래 보기 중 고르세요...\",\n",
    "           \"A) 철자가 틀렸을 경우 이름 문제를 눈치채지 못할 수 있지만, 코드를 통해 확인하면 이를 발견할 수 있기 때문\", \n",
    "           \"B) 어떤 이유로 자동화를 통해 확인하고 싶을 수 있기 때문\", \n",
    "           \"C) 수동 확인이 코딩보다 훨씬 더 재미있기 때문\"]\n",
    "\n",
    "user_answer = st.radio(question, options, index=0)\n",
    "if user_answer:\n",
    "    if user_answer == \"아래 보기 중 고르세요...\":\n",
    "        ''\n",
    "    else:\n",
    "        answer = '5c6dfae473420b365f5f247ee6c65487'\n",
    "        response = session.sql(f\"call common_db.resources.quiz_temp('{answer}', '{user_answer}', 'False')\").collect()\n",
    "        if response:\n",
    "            value = response[0]['QUIZ_TEMP']\n",
    "        st.write(value)"
   ]
  },
  {
   "cell_type": "markdown",
   "id": "59acd062-d2ef-4daf-885a-24adad295928",
   "metadata": {
    "collapsed": false,
    "name": "next_steps",
    "resultHeight": 102
   },
   "source": [
    "## 다음 단계\n",
    "\n",
    "채점 확인(1-7)이 통과되었고, **Knowledge Test** 질문에 올바르게 답했다면, Snowflake 강사의 안내에 따라 다음 노트북으로 진행하세요."
   ]
  }
 ]
}