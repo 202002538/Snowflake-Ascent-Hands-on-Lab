{
 "metadata": {
  "kernelspec": {
   "display_name": "Streamlit Notebook",
   "name": "streamlit"
  },
  "lastEditStatus": {
   "notebookId": "46k5eodvj52wtni4absy",
   "authorId": "2211604274361",
   "authorName": "LOBSTER07",
   "authorEmail": "",
   "sessionId": "18ff66c7-cf1a-4bf1-9a2e-29d6b469bbd3",
   "lastEditTime": 1753685012283
  }
 },
 "nbformat_minor": 5,
 "nbformat": 4,
 "cells": [
  {
   "cell_type": "markdown",
   "id": "3775908f-ca36-4846-8f38-5adca39217f2",
   "metadata": {
    "collapsed": false,
    "name": "lab_8_stages_and_semi_structured_data"
   },
   "source": [
    "# Lab 8: 스테이지와 반정형 데이터\n",
    "\n",
    "## Snowflake 스테이지 오브젝트 생성\n",
    "\n",
    "👉 이 수업에서는 Education Services 팀에서 사용하도록 제공한 **S3**(Amazon Simple Storage Service) 버킷을 가르키는 스테이지를 생성할 것입니다.\n",
    "\n",
    "먼저 이 실습 전반에 걸쳐 사용할 **컨텍스트 정보**를 가져오갰습니다. \n",
    "\n",
    "- **Start** 버튼을 클릭하여 이 노트북을 활성화합니다.\n",
    "\n",
    "- 아래 Python 셀을 실행합니다."
   ]
  },
  {
   "cell_type": "markdown",
   "id": "cf0a6924-a608-4b8d-8d0a-0e296443eb2a",
   "metadata": {
    "collapsed": false,
    "name": "cell2"
   },
   "source": [
    "#### :warning: 이 노트북에서 새 세션이 시작될 때마다, 이후 셀에서 사용할 \"변수\"를 설정하려면 아레 셀을 다시 실행해야 합니다. :warning:"
   ]
  },
  {
   "cell_type": "code",
   "execution_count": null,
   "id": "b85d41b4-9d71-4120-9083-7f23aa53e8e8",
   "metadata": {
    "collapsed": false,
    "language": "python",
    "name": "cell3"
   },
   "outputs": [],
   "source": [
    "import streamlit as st\n",
    "from snowflake.snowpark.context import get_active_session\n",
    "session = get_active_session()\n",
    "user = session.get_current_user().strip('\"')\n",
    "your_db = user + '_DB'\n",
    "print('Your current CONTEXT information:')\n",
    "print('---------------------------------')\n",
    "print(session)\n",
    "print('Your current USER is ' + user)"
   ]
  },
  {
   "cell_type": "markdown",
   "id": "14acad33-6bff-4a71-9e80-c66b3994fb04",
   "metadata": {
    "collapsed": false,
    "name": "cell4"
   },
   "source": [
    "### 스테이지 생성 🥋\n",
    "\n",
    "1. Snowsight 오브젝트 브라우저에서 이전 실습에서 생성한 **(animal)_UTIL_DB** 데이터베이스를 선택합니다.\n",
    "1. 그런 다음 **PUBLIC**이라는 이름의 스키마를 선택합니다.\n",
    "1. 오른쪽 상단의 파란색 **Create** 버튼을 클릭하세요.\n",
    "1. **Stage** > **External Stage** > **Amazon S3**를 선택하세요.\n",
    "\n",
    "![Create stage option (image)](https://edu-cdev-images.s3.us-west-2.amazonaws.com/ob/ob_create_stage_new_1.png)\n",
    "\n",
    "스테이지 생성 대화 상자가 나타납니다.\n",
    "\n",
    "![Stage creation dialog (image)](https://edu-cdev-images.s3.us-west-2.amazonaws.com/ob/ob_create_stage_dialog_1.png)\n",
    "\n",
    "1. **Stage Name** 텍스트 상자에 다음을 입력합니다: `like_a_window_into_an_s3_bucket`\n",
    "1. **URL** 텍스트 상자에 다음 이름을 입력합니다: `s3://uni-lab-files`\n",
    "1. **Directory table** 옵션이 선택된 상태로 유지되었는지 확인합니다.\n",
    "1. 오른쪽 하단의 파란색 **Create** 버튼을 클릭합니다.\n",
    "1. 다음 화면에서 사용할 Snowflake 가상 웨어하우스의 이름을 요청할 수도 있습니다. 이름이 지정된 **(animal)_WH** 웨어하우스를 선택하세요."
   ]
  },
  {
   "cell_type": "markdown",
   "id": "0d5961fd-02f1-4128-87f6-e98f11a3609a",
   "metadata": {
    "collapsed": false,
    "name": "cell5"
   },
   "source": [
    "### 오브젝트 브라우저가 새로 생성한 스테이지의 사용 가능한 파일을 보여줍니다. 📓\n",
    "\n",
    "![Stage files (image)](https://edu-cdev-images.s3.us-west-2.amazonaws.com/ob/ob_new_stage_files.png)\n",
    "\n",
    "\n",
    "💡 **팁**: 이 파일들과 폴더들은 Snowflake Education Services 팀이 소유하고 관리하는 AWS S3 버킷에 저장되어 있습니다. 이 과정을 위해 준비한 것입니다. 스테이지를 생성했기 때문에 해당 버킷의 파일 목록을 확인할 수 있습니다. 이는 해당 버키에 있는 파일들을 확인하고 액세스 할 수 있도록 하는 창과 같습니다. 이 버킷은 공개(Public)되어 있지만, 회사가 생성하는 버킷은 일반적으로 자격 증명이 필요할 것입니다."
   ]
  },
  {
   "cell_type": "markdown",
   "id": "0c50ce2a-6355-4118-bf88-3a6e33b06ca6",
   "metadata": {
    "collapsed": false,
    "name": "cell6"
   },
   "source": [
    "### 스테이지인가, 스테이지가 아닌가? 📓 \n",
    "\n",
    "Snowflake의 스테이지에 대해 혼란스럽고 이상하게 느껴질 수 있는 점 중 하나는, 방금 생성한 스테이지 오브젝트가 실제 위치가 아니라는 점입니다. 그 위치(파일들을 보유한 S3 버킷)는 이미 존재하고 있었습니다. 그렇다면, 방금 생성한 것은 무엇일까요?\n",
    "\n",
    "사실, 우리가 생성한 것은 이미 파일이 준비된 특정 위치에 대한 정보를 Snowflake에 알려주는 오브젝트인 것입니다. 실제 스테이지 위치를 생성한 것이 아니라, 그 스테이지 위치를 들여다볼 수 있는 창과 같은 것을 만든 셈입니다. Snowflake 스테이지 오브젝트는 File format이 파일을 로드하는 작업을 쉽게 만들어주는 구성 정보를 보유하고 있다는 점에서 File Format과 비슷한 역할을 합니다.\n",
    "\n",
    "때로는 Snowflake 스테이지를 정의할 때 접근 자격 증명도 제공해야 하지만, 이번 경우에는 제공하지 않았습니다. 우리가 생성한 스테이지는 단지 이름을 붙인 오브젝트로, 이미 파일이 준비된 S3 버킷을 가리키는 역할을 합니다. "
   ]
  },
  {
   "cell_type": "markdown",
   "id": "dcb39a90-a856-46cf-9fd4-dc773664b462",
   "metadata": {
    "collapsed": false,
    "name": "use_the_list_command"
   },
   "source": [
    "## SQL 셀에서 LIST 명령 사용하기 🥋 \n",
    "\n",
    "### 새 스테이지의 파일을 보기 위해 LIST 명령 사용 🥋 \n",
    "\n",
    "`LIST` 명령은 Snowflake 스테이지에 준비된 파일(로컬 파일 시스템에서 업로드되었거나 테이블에서 언로드된 파일)의 목록을 반환합니다.\n",
    "- 이 명령은 `LS`로 줄여서 사용할 수도 있습니다.\n",
    "- Snowflake 스테이지 오브젝트를 참조할 때는 이름 앞에 앰퍼샌드(`@`) 문자를 붙여야 합니다.\n",
    "\n",
    "아래와 같은 `LIST` 명령을 직접 실행해 보세요."
   ]
  },
  {
   "cell_type": "code",
   "execution_count": null,
   "id": "050182e1-0cb5-4f9d-82d7-9b1f1bc98d9c",
   "metadata": {
    "collapsed": false,
    "language": "sql",
    "name": "cell8"
   },
   "outputs": [],
   "source": [
    "USE SCHEMA {{user}}_UTIL_DB.PUBLIC;\n",
    "\n",
    "LIST @like_a_window_into_an_s3_bucket;"
   ]
  },
  {
   "cell_type": "markdown",
   "id": "27333ef9-d29f-4baf-b265-25932ba6cc4f",
   "metadata": {
    "collapsed": false,
    "name": "cell9"
   },
   "source": [
    "### Snowflake 오브젝트 명명 규칙 📓\n",
    "\n",
    "Snowflake는 대소문자를 구분하지 않는다는 점에 주목하세요. 우리는 새 스테이지 오브젝트의 이름을 소문자로 입력했지만, Snowflake는 항상 모든 것을 **대문자**로 입력한다고 간주하고 자동으로 변환합니다. 따라서 오브젝트를 생성하거나 쿼리할 때 소문자 또는 혼합된 대소문자를 입력해도 Snowflake가 백그라운드에서 이를 대문자로 변환합니다.\n",
    "\n",
    "(단, 생성 시 따옴표를 사용하면 그 이후로는 항상 따옴표를 사용해야 하며, 해당 따옴표 포함 이름을 사용해야 합니다.)\n",
    "\n",
    "따라서 스테이지 오브젝트에 명령을 실행할 때는 어떤 대소문자 철자도 작동합니다. 그러나 S3는 매우 까다롭기 때문에 스테이지 오브젝트 이름을 넘어서 작업할 때는 매우 신중해야 합니다. 정확한 철자(파일 확장자를 포함한 대소문자 구분)를 사용해야 합니다.\n",
    "\n",
    "![Stage files (image)](https://edu-cdev-images.s3.us-west-2.amazonaws.com/ob/ob_list_command_2.png)"
   ]
  },
  {
   "cell_type": "markdown",
   "id": "f6ac8cbe-1b9d-44c4-aaf0-3b3e243339a0",
   "metadata": {
    "collapsed": false,
    "name": "cell10"
   },
   "source": [
    "### Check 8 (OB08) 🔎\n",
    "\n",
    "- `like_a_window_into_an_s3_bucket`이름으로 생성된 External Stage가 있나요?\n",
    "- 작업을 확인하려면 채점용 Stored Procedure를 호출하세요."
   ]
  },
  {
   "cell_type": "code",
   "execution_count": null,
   "id": "8048865b-e8aa-46b5-9b88-d06cb64ceb41",
   "metadata": {
    "collapsed": false,
    "language": "sql",
    "name": "cell11"
   },
   "outputs": [],
   "source": [
    "CALL common_db.resources.local_grader('OB08', '{{user}}');"
   ]
  },
  {
   "cell_type": "markdown",
   "id": "fda2c5a9-8760-4700-a29c-ce6a72f212af",
   "metadata": {
    "collapsed": false,
    "name": "use_the_copy_into_statement"
   },
   "source": [
    "## `COPY INTO` 구문을 사용하여 데이터 로드 🥋 \n",
    "\n",
    "### 토양 유형(Soil Type)을 위한 테이블 생성 🥋 \n",
    "\n",
    "**(animal)_GARDEN_PLANTS** 데이터베이스의 **VEGGIES** 스키마에 생성하는지 확인하세요. 이를 위해 아래 SQL 셀에서 2번째 라인을 수정하여 해시 문자 `('#')`를 올바른 스키마 이름으로 대체한 수 셀을 실행하세요."
   ]
  },
  {
   "cell_type": "code",
   "execution_count": null,
   "id": "0f8f9e1e-538d-450b-a577-6c8d6310cc64",
   "metadata": {
    "collapsed": false,
    "language": "sql",
    "name": "cell13"
   },
   "outputs": [],
   "source": "-- replace the hash characters ('#') on the next line\nUSE SCHEMA {{user}}_GARDEN_PLANTS.VEGGIES;\n\nCREATE OR REPLACE TABLE vegetable_details_soil_type\n( plant_name VARCHAR(25)\n ,soil_type NUMBER(1,0)\n);"
  },
  {
   "cell_type": "markdown",
   "id": "5b4edb83-c540-4635-9c71-f87457ab955a",
   "metadata": {
    "collapsed": false,
    "name": "cell14"
   },
   "source": [
    "### S3 버킷에서 새 테이블로 파일 로드하기 📓\n",
    "\n",
    "이전에 Snowsight **데이터 로드** 화면을 사용하여 준비된 파일에서 테이블로 데이터를 복사한 적이 있습니다. 이 \"마법사 기반(wizard-driven)\" 접근 방식을 사용할 때 Snowflake는 이 작업을 수행하기 위해 코드 생성 및 실행을 백그라운드에서 처리합니다. 이번 데이터 로드에서는 프로그래밍 방식 접근법을 살펴볼 것입니다.\n",
    "\n",
    "노트북의 SQL 셀에서 `COPY INTO` 구문을 사용할 것입니다.\n",
    "\n",
    "`COPY INTO` 구문을 사용하려면, 다음 4 가지가 준비되어 있는 것이 가장 좋습니다:\n",
    "\n",
    "1. 테이블\n",
    "\n",
    "1. 스테이지 오브젝트\n",
    "\n",
    "1. 파일\n",
    "\n",
    "1. File Format (선택 사항)\n",
    "\n",
    "**File Format**은 선택 사항입니다. 대안이 존재하지만, File Format을 사용하면 더 깔끔한 프로세스가 됩니다. 앞서 언급했듯이, File Format은 Snowflake가 스테이지에서 로드되는 데이터를 처리하는 방법에 대한 지침을 제공하는 오브젝트입니다. 아래 예제에서는 File Format을 정의하지 않고, 이러한 \"지침\"을 인라인으로 제공합니다."
   ]
  },
  {
   "cell_type": "markdown",
   "id": "8dc4d8d3-76d6-4144-9e3c-8444bdf6485d",
   "metadata": {
    "collapsed": false,
    "name": "cell15"
   },
   "source": [
    "### 실행할 수 있는 `Copy Into` 구문 🥋 "
   ]
  },
  {
   "cell_type": "code",
   "execution_count": null,
   "id": "85ca3120-6e6d-41fb-a140-809318091367",
   "metadata": {
    "collapsed": false,
    "language": "sql",
    "name": "cell16"
   },
   "outputs": [],
   "source": [
    "COPY INTO vegetable_details_soil_type\n",
    "FROM @{{user}}_util_db.public.like_a_window_into_an_s3_bucket\n",
    "FILES = ( 'VEG_NAME_TO_SOIL_TYPE_PIPE.txt')\n",
    "FILE_FORMAT = (\n",
    "    TYPE=csv\n",
    "    FIELD_DELIMITER = '|'\n",
    "    SKIP_HEADER=1\n",
    ");"
   ]
  },
  {
   "cell_type": "markdown",
   "id": "6a184e68-26b0-4563-b8f5-12de8fa7d321",
   "metadata": {
    "collapsed": false,
    "name": "cell17"
   },
   "source": [
    "### Check 9 (OB09) 🔎\n",
    "\n",
    "- **(animal)_garden_plants.veggies** 스키마의 **vegetable_details_soil_type** 테이블에 42개의 행이 로드되었습니까?\n",
    "- 작업을 확인하려면 채점용 Stored Procedure를 호출하세요."
   ]
  },
  {
   "cell_type": "code",
   "execution_count": null,
   "id": "a10d971d-267f-44bf-a614-14d889fc9da8",
   "metadata": {
    "collapsed": false,
    "language": "sql",
    "name": "cell18"
   },
   "outputs": [],
   "source": [
    "CALL common_db.resources.local_grader('OB09', '{{user}}');"
   ]
  },
  {
   "cell_type": "markdown",
   "id": "5f157b44-df8d-4bcb-bcb3-38ca7118f33e",
   "metadata": {
    "collapsed": false,
    "name": "data_loading_tips_and_tricks"
   },
   "source": [
    "## 데이터 로드 팁과 요령 📓\n",
    "\n",
    "- 모든 평면 파일(flat file)은 CSV(Comma Separated Values) 유형의 File Format을 사용하여 로드됩니다. 따라서 모든 평면 파일(TSV, Pipe Delimited, .txt 등)에 대해 `TYPE = CSV`를 사용하세요.\n",
    "\n",
    "- **FIELD_DELIMITER** 속성은 매우 중요합니다. 이는 파일에서 사용되는 실제 컬럼 구분자와 일치해야 합니다.\n",
    "\n",
    "- Data Load Wizard는 File Format(named 또는 inline)을 작성하는 데 도움을 줄 수 있습니다. 드롭 목록에서 필요한 설정을 선택한 다음 Show SQL 링크를 클릭하여 해당 설정에 대한 SQL 코드를 확인하세요."
   ]
  },
  {
   "cell_type": "markdown",
   "id": "c293f9eb-c7f8-46c4-91ee-da56f1b4f0d8",
   "metadata": {
    "collapsed": false,
    "name": "challenge_exercise"
   },
   "source": [
    "## 챌린지 실습: 토양 유형(Soil Type) 조회 테이블 생성 🎯 \n",
    "\n",
    "이 챌린지 실습에서는 **lu_soil_type**이라는 새 테이블을 생성하고 제공된 파일에서 데이터를 로드합니다. 아래 두 가지 방법 중 하나를 선택하여 진행할 수 있습니다:\n",
    "- **Data Load** wizard 사용 **또는**\n",
    "- 직접 `COPY INTO` 구문을 작성하고 실행 \n",
    "\n",
    ":warning: 이 과제에서는 개략적인 지침만을 제공하며, 이전에 다룬 내용을 기반으로 스스로 \"단계를 해결\"해야 합니다. :warning:\n",
    "\n",
    "먼저 테이블을 생성하세요. 테이블은 반드시 **(animal)_GARDEN_PLANTS** 데이터베이스의 **VEGGIES** 스키마에 생성해야 합니다."
   ]
  },
  {
   "cell_type": "code",
   "execution_count": null,
   "id": "695ebe7f-2229-4e34-b954-2ba31f9d69e5",
   "metadata": {
    "collapsed": false,
    "language": "sql",
    "name": "cell21"
   },
   "outputs": [],
   "source": "USE SCHEMA {{user}}_GARDEN_PLANTS.VEGGIES;\n\nCREATE OR REPLACE TABLE lu_soil_type(\n    soil_type_id STRING --NUMBER --,\t\n    --soil_type VARCHAR(15),\n    --soil_description VARCHAR(75)\n);"
  },
  {
   "cell_type": "markdown",
   "id": "a0403b5e-6166-4bbc-8d22-e00328d82a93",
   "metadata": {
    "collapsed": false,
    "name": "cell22"
   },
   "source": [
    "### 소스 데이터 파일 다운로드 🎯 \n",
    "\n",
    "아래 Python 코드 셀을 실행하고 생성된 링크를 클릭하여 **LU_SOIL_TYPE.tsv** 파일을 다운로드합니다."
   ]
  },
  {
   "cell_type": "code",
   "execution_count": null,
   "id": "c63fb6eb-0b9b-4167-9838-1d21d8e0f816",
   "metadata": {
    "collapsed": false,
    "language": "python",
    "name": "cell23"
   },
   "outputs": [],
   "source": [
    "snowpark_df = session.sql(\"SELECT GET_PRESIGNED_URL(@common_db.resources.course_files, 'LU_SOIL_TYPE.tsv')\")\n",
    "collected_data = snowpark_df.collect()\n",
    "st.write('Click the following link to download the file:')\n",
    "st.write(collected_data[0][0])"
   ]
  },
  {
   "cell_type": "markdown",
   "id": "ecbd3939-b9f6-4835-bd9f-1732f3ab7c94",
   "metadata": {
    "collapsed": false,
    "name": "cell24"
   },
   "source": [
    "### 다운로드한 파일에서 테이블로 행 로드 🎯\n",
    "\n",
    "**LU_SOIL_TYPE.tsv** 파일은 이전에 로드했던 **VEG_NAME_TO_SOIL_TYPE_PIPE.txt** 파일과 여러 File Format 속성을 공유하지만, 주요 차이가 하나 있습니다. 이것을 정리해보면:\n",
    "- **TYPE**: 파일의 확장자는 **.tsv**입니다.(그래서 이것의 [유형](https://docs.snowflake.com/ko/sql-reference/sql/copy-into-table#type-csv)을 알아야 합니다.)\n",
    "- **SKIP_HEADER**: 파일에는 헤더 행이 한 줄 있습니다.\n",
    "- **FIELD_DELIMITER**: 파일은 파이프(`'|'`)로 구분된 것이 **아니라** **탭**으로 구분되어 있습니다. 탭은 다음 문자로 표현됩니다. `'\\t'`\n",
    "\n",
    "#### 옵션 1:\n",
    "- Snowsight의 **Load Data** wizard를 사용.\n",
    "\n",
    "#### 또는\n",
    "\n",
    "#### 옵션 2:\n",
    "- 위 내용을 참고하여 다음 SQL `COPY INTO` 구문을 수정하고 실행합니다.\n",
    "- 대상 테이블의 이름(라인 1)을 입력합니다.\n",
    "- File Format 옵션(라인 5-7)을 입력합니다."
   ]
  },
  {
   "cell_type": "code",
   "execution_count": null,
   "id": "17b1aab5-8e23-42b5-a596-a0b287c981df",
   "metadata": {
    "language": "sql",
    "name": "cell25"
   },
   "outputs": [],
   "source": "COPY INTO lu_soil_type\nFROM @{{user}}_util_db.public.like_a_window_into_an_s3_bucket\nFILES = ( 'LU_SOIL_TYPE.tsv')\nFILE_FORMAT = (\n    TYPE = CSV,\n    SKIP_HEADER = 1\n    FIELD_DELIMITER = '|',\n    FIELD_OPTIONALLY_ENCLOSED_BY = '\"'\n);"
  },
  {
   "cell_type": "markdown",
   "id": "e798ed97-33f5-4e68-bf6b-8f386aba618e",
   "metadata": {
    "collapsed": false,
    "name": "cell26"
   },
   "source": [
    "### Check 10 (OB10) 🔎\n",
    "\n",
    "- **(animal)_garden_plants.veggies** 스키마의 **lu_soil_type** 테이블에 8개의 행이 로드되었습니까?\n",
    "- 작업을 확인하려면 채점용 Stored Procedure를 호출하세요."
   ]
  },
  {
   "cell_type": "code",
   "execution_count": null,
   "id": "5070433e-9ae1-446a-9e6c-993123d27280",
   "metadata": {
    "collapsed": false,
    "language": "sql",
    "name": "cell27"
   },
   "outputs": [],
   "source": [
    "CALL common_db.resources.local_grader('OB10', '{{user}}');"
   ]
  },
  {
   "cell_type": "markdown",
   "id": "f1f03286-acbb-4ab8-a99f-4fce6bbcdc23",
   "metadata": {
    "collapsed": false,
    "name": "work_with_semi_structured_data"
   },
   "source": [
    "## 반정형 데이터로 작업하기 📓\n",
    "\n",
    "반정형 데이터는 전통적인 정형 데이터 표준을 따르지 않지만, 데이터 내의 개별적이고 명확한 엔티티를 식별하는 태그(라벨) 또는 기타 유형의 마크업을 포함하는 데이터를 말합니다. 반정형 데이터가 정형 데이터와 구별되는 두 가지 주요 속성은 중첩 데이터 구조와 고정된 스키마의 부재입니다:\n",
    "\n",
    "- 반정형 데이터는 사전에 스키마 정의가 필요하지 않으며, 지속적으로 진화할 수 있습니다.(새로운 속성을 언제든지 추가할 수 있음)\n",
    "- 정형 데이터가 데이터를 평면 테이블로 표현하는 것과 달리, 반정형 데이터는 중첩된 정모의 N-레벨 계층 구조를 포함할 수 있습니다.\n",
    "\n",
    "다음은 Snowflake에서 지원하는 반정형 데이터 유형 중 하나인 JSON 데이터의 예입니다.\n",
    "\n",
    "![Vegetable details table data (image)](https://edu-cdev-images.s3.us-west-2.amazonaws.com/ob/ob_json_data_extract.png)\n",
    "\n",
    "### `VARIANT` 데이터 유형\n",
    "\n",
    "Snowflake는 반정형 데이터 저장을 지원하기 위해 [`VARIANT`](https://docs.snowflake.com/ko/sql-reference/data-types-semistructured#label-data-type-variant) 데이터 유형을 제공합니다. 이는 [`ARRAY`](https://docs.snowflake.com/ko/sql-reference/data-types-semistructured#array) 및 [`OBJECT`](https://docs.snowflake.com/ko/sql-reference/data-types-semistructured#object)(종종 반정형 데이터와 함께 사용됨)를 포함하여 다른 모든 데이터 유형의 값을 저장할 수 있는 데이터 유형입니다. 이 데이터 유형을 사용하면 Snowflake로 데이터를 로드할 때 반정형 데이터의 계층적/중첩된 형식을 유지할 수 있습니다."
   ]
  },
  {
   "cell_type": "markdown",
   "id": "2dd398a3-1c5c-4c86-b5c1-a3aa622ad5ee",
   "metadata": {
    "collapsed": false,
    "name": "cell29"
   },
   "source": [
    "### `VARIANT` 컬럼을 포함하는 테이블 생성 🥋\n",
    "\n",
    "**(animal)_GARDEN_PLANTS** 데이터베이스의 **VEGGIES** 스키마에 **VEGETABLE_DETAILS_PLANT_HEIGHT** 테이블을 생성합니다. 이 테이블은 단일 컬럼을 포함하며, 컬럼의 데이터 유형은 `VARIANT`입니다."
   ]
  },
  {
   "cell_type": "code",
   "execution_count": null,
   "id": "9e620cc4-3a3a-4db5-9939-7ac80add38fa",
   "metadata": {
    "collapsed": false,
    "language": "sql",
    "name": "cell30"
   },
   "outputs": [],
   "source": [
    "CREATE OR REPLACE TABLE {{user}}_GARDEN_PLANTS.VEGGIES.VEGETABLE_DETAILS_PLANT_HEIGHT (\n",
    "\trecord VARIANT\n",
    ");"
   ]
  },
  {
   "cell_type": "markdown",
   "id": "d6382ab1-12de-4207-ab43-452c01a232c6",
   "metadata": {
    "collapsed": false,
    "name": "cell31"
   },
   "source": [
    "### JSON 소스 데이터 파일 다운로드 🥋\n",
    "\n",
    "아래 Python 코드 셀을 실행하고 생성된 링크를 클릭하여 JSON **veg_plant_height.json** 파일을 다운로드합니다.\n",
    "\n",
    "브라우저에 따라 이 파일이 새 탭/창에서 직접 열리거나 다운로드될 수 있습니다. 다운로드된 경우, 로컬 시스템의 텍스트 편집기에서 파일을 열어 구조를 검토하세요.\n",
    "\n",
    "💡 **팁**: 이 파일을 다운로드하는 이유는 파일의 구조와 내용을 검토하기 위함입니다. 데이터를 로드할 때는 이미 스테이지에 위치한 파일을 사용할 것입니다."
   ]
  },
  {
   "cell_type": "code",
   "execution_count": null,
   "id": "2675948d-8e58-4134-a628-065071b42b6e",
   "metadata": {
    "collapsed": false,
    "language": "python",
    "name": "cell32"
   },
   "outputs": [],
   "source": [
    "snowpark_df = session.sql(\"SELECT GET_PRESIGNED_URL(@common_db.resources.course_files, 'veg_plant_height.json')\")\n",
    "collected_data = snowpark_df.collect()\n",
    "st.write('Click the following link to download the file:')\n",
    "st.write(collected_data[0][0])"
   ]
  },
  {
   "cell_type": "markdown",
   "id": "5dfbf33c-bf77-4eec-b492-90af6eeb8c1b",
   "metadata": {
    "collapsed": false,
    "name": "cell33"
   },
   "source": [
    "### JSON 데이터를 로드하기 위한 `Copy Into` 구문 🥋 \n",
    "\n",
    "이제 아래 구문을 실행하여 이 JSON 데이터를 새 테이블에 로드하세요.\n",
    "\n",
    "- 정형 데이터가 아닌 반정형 데이터를 로드하기 위해 아래 **file format** 사양에서 무엇이 변경되었나요?"
   ]
  },
  {
   "cell_type": "code",
   "execution_count": null,
   "id": "3b2ba29c-75cc-459a-ac41-e4b796a9fe72",
   "metadata": {
    "collapsed": false,
    "language": "sql",
    "name": "cell34"
   },
   "outputs": [],
   "source": [
    "COPY INTO vegetable_details_plant_height\n",
    "FROM @common_db.resources.course_files/veg_plant_height.json\n",
    "FILE_FORMAT = (TYPE = 'JSON');"
   ]
  },
  {
   "cell_type": "markdown",
   "id": "94bcfdcd-5dea-4df4-ab92-20d9aec5223d",
   "metadata": {
    "collapsed": false,
    "name": "cell35"
   },
   "source": [
    "### JSON 데이터를 로드한 테이블 쿼리 🥋\n",
    "\n",
    "Snowflake는 `VARIANT`에 저장된 복잡한 계층적 데이터를 쿼리하기 위한 특별한 연산자와 함수를 제공합니다. 이를 곧 소개하겠지만, 지금은 정형 데이터 세트를 대상으로 사용하는 일반적인 SQL 구문을 사용하여 **vegetable_details_plant_height** 테이블에서 단일 행의 데이터를 검토해 보겠습니다."
   ]
  },
  {
   "cell_type": "code",
   "execution_count": null,
   "id": "9e3021b5-b318-4961-8692-61e36564f27f",
   "metadata": {
    "collapsed": false,
    "language": "sql",
    "name": "cell36"
   },
   "outputs": [],
   "source": [
    "SELECT *\n",
    "FROM vegetable_details_plant_height\n",
    "LIMIT 1;"
   ]
  },
  {
   "cell_type": "markdown",
   "id": "7d816dd9-9cda-45bc-af74-e87ab933c379",
   "metadata": {
    "collapsed": false,
    "name": "cell37"
   },
   "source": [
    "### 정형 데이터 쿼리하기\n",
    "\n",
    "위의 쿼리에서 확인할 수 있듯이 **RECORD**라는 이름의 `VARIANT` 컬럼에는 네 개의 키-값 쌍이 포함되어 있습니다. 이는 데이터가 로드된 형식 그대로 유지되어 있어서 괜찮습니다. 하지만 엘레멘트를 개별적으로 처리하거나 보고서를 위해 정형된 형식으로 사용해야 할 때도 있을 것입니다.\n",
    "\n",
    "다음은 Snowflake에서 반정형 데이터를 **탐색(traversing)**하는 개괄적인 지침입니다.\n",
    "- `VARIANT` 컬럼 이름과 첫 번째 수준 엘레멘트 사이에 콜론 `:`을 넣습니다.\n",
    "    - <column>:<level1_element>\n",
    "- JSON 오브젝트의 계층적 경로에서 더 아래에 중첩된 엘레멘트에 접근하려면 점 표기법(dot notation)을 사용합니다.\n",
    "    - <column>:<level1_element>.<level2_element>.<level3_element>\n",
    "- **컬럼 이름**은 대소문자를 구분하지 않지만, 엘레멘트 이름들은 대소문자를 **구분**합니다.\n",
    "- 엘레멘트 이름을 큰따옴표로 감싸는 것도 가능합니다.\n",
    "\n",
    "다음 간단한 예제를 실행하여 **vegetable_details_plant_height** 테이블의 행을 **평면화(flatten)**(즉 정형 데이터로 표현)해 보세요."
   ]
  },
  {
   "cell_type": "code",
   "execution_count": null,
   "id": "92345cd9-b2dc-40ee-9b3b-2fd1c248cc4d",
   "metadata": {
    "collapsed": false,
    "language": "sql",
    "name": "cell38"
   },
   "outputs": [],
   "source": [
    "//Returns the data in a way that makes it look like a normalized table\n",
    "SELECT \n",
    "    record:PLANT_NAME::STRING AS plant_name,\n",
    "    record:UOM AS uom, -- no casting \n",
    "    record:LOW_END_OF_RANGE::INTEGER AS low_end_of_range,\n",
    "    record:HIGH_END_OF_RANGE::INTEGER AS high_end_of_range\n",
    "FROM vegetable_details_plant_height;"
   ]
  },
  {
   "cell_type": "markdown",
   "id": "d079120f-fad7-44b7-bee9-37a8a4357466",
   "metadata": {
    "collapsed": false,
    "name": "cell39"
   },
   "source": [
    "### `VARIANT` 값 캐스팅 📓\n",
    "\n",
    "위 쿼리를 실행할 때 알아챘을 수도 있겠지만, **UOM** 컬럼 값이 다른 값들과 달리 **캐스팅**(다른 데이터 유형으로 변환)되지 않았다는 점입니다. 따라서 약간 다르게 보였으며, 다음과 같이 큰따옴표로 묶여 있었습니다: \"F\"\n",
    "\n",
    "이는 해당 컬럼 값이 `VARCHAR` 또는 `STRING`(동의어)이라는 것을 의미하지 않습니다. 대신 이것은 여전히 `VARIANT` 값임을 나타냅니다. `VARIANT` 값은 문자열이 아니라 `VARIANT` 값이 문자열을 포함하고 있다는 것을 의미합니다.\n",
    "\n",
    "Snowflake SQL에서는 다음과 같은 방법으로 데이터 유형을 캐스팅할 수 있습니다.\n",
    "- [`CAST()`](https://docs.snowflake.com/ko/sql-reference/functions/cast) 함수 사용\n",
    "- 대체 구문으로 `::` 연산자 사용 (예: **record:PLANT_NAME::STRING**)"
   ]
  },
  {
   "cell_type": "markdown",
   "id": "433f9589-31b8-42ff-8ea5-a09dfd1aebc5",
   "metadata": {
    "collapsed": false,
    "name": "challenge_exercise_2"
   },
   "source": [
    "## 챌린지 실습: 반정형 데이터를 보여주는 뷰 생성 🎯 \n",
    "\n",
    "이 챌린지 실습에서는 새로운 [뷰(View)](https://docs.snowflake.com/ko/user-guide/views-introduction) 오브젝트를 생성할 것입니다. 뷰는 쿼리 결과를 테이블처럼 액세스할 수 있도록 합니다. 목표는 **vegetable_details_plant_height** 데이터를 정규화된 방식으로 표시하는 것입니다.\n",
    "\n",
    "1. 아래 셀에 있는 템플릿 SQL을 수정하세요. 변경이 필요한 세 개의 라인은 `-- ***`로 표시되어 있습니다.\n",
    "1. **UOM** 컬럼을 `VARCHAR`로 **캐스팅**합니다.\n",
    "1. **LOW_END_OF_RANGE** 와 **HIGH_END_OF_RANGE** 컬럼의 순서를 **교체**하세요."
   ]
  },
  {
   "cell_type": "code",
   "execution_count": null,
   "id": "8d06aade-7ad0-4480-8d49-9a00d6399179",
   "metadata": {
    "collapsed": false,
    "language": "sql",
    "name": "cell41"
   },
   "outputs": [],
   "source": "-- modify the following code according to the instructions above, then run to create the object\nCREATE OR REPLACE VIEW vegetable_details_plant_height_vw AS \nSELECT \n    record:PLANT_NAME::STRING AS plant_name,\n    record:UOM::VARCHAR AS uom, -- *** \n    record:HIGH_END_OF_RANGE::INTEGER AS high_end_of_range, -- ***\n    record:LOW_END_OF_RANGE::INTEGER AS low_end_of_range -- ***\n\nFROM vegetable_details_plant_height;"
  },
  {
   "cell_type": "code",
   "execution_count": null,
   "id": "47418956-54f7-4604-b09b-2fb57b42a6fc",
   "metadata": {
    "language": "sql",
    "name": "cell42"
   },
   "outputs": [],
   "source": [
    "-- then run this query against your new view to confirm the output\n",
    "SELECT *\n",
    "FROM vegetable_details_plant_height_vw;"
   ]
  },
  {
   "cell_type": "markdown",
   "id": "054da240-9b64-4bac-9b5b-76dc772df3e0",
   "metadata": {
    "collapsed": false,
    "name": "cell43"
   },
   "source": [
    "### Check 11 (OB11) 🔎\n",
    "\n",
    "- **(animal)_GARDEN_PLANTS** 데이터베이스의 **VEGGIES** 스키마에 **vegetable_details_plant_height_vw**라는 뷰를 생성했습니까?\n",
    "- **UOM**이 `VARCHAR`(텍스트) 컬럼으로 캐스팅되었으며, **HIGH_END_OF_RANGE** 컬럼이 세 번째 위치에, **LOW_END_OF_RANGE** 컬럼이 네 번째 위치에 있습니까?\n",
    "- 작업을 확인하려면 채점용 Stored Procedure를 호출하세요."
   ]
  },
  {
   "cell_type": "code",
   "execution_count": null,
   "id": "46b693fe-11fe-4bd0-a7bd-7177189c3c51",
   "metadata": {
    "collapsed": false,
    "language": "sql",
    "name": "cell44"
   },
   "outputs": [],
   "source": [
    "CALL common_db.resources.local_grader('OB11', '{{user}}');"
   ]
  },
  {
   "cell_type": "markdown",
   "id": "949499da-e79b-4638-aac1-937286d97f87",
   "metadata": {
    "collapsed": false,
    "name": "test_your_knowledge"
   },
   "source": [
    "## 지식 테스트 🔎\n",
    "\n",
    "아래 Python 셀을 실행하여 Streamlit 기반의 위젯을 표시하고 Snowflake 특징과 기능에 대한 질문에 답하세요. 지금은 이 코드가 무엇을 하는지 이해할 필요가 없습니다. 그냥 코드를 실행하세요.\n",
    "\n",
    "질문에 올바르게 답해야 다음 섹션으로 진행할 수 있습니다."
   ]
  },
  {
   "cell_type": "code",
   "execution_count": null,
   "id": "81586a60-61f1-4519-b533-0fbf735ecc0f",
   "metadata": {
    "collapsed": false,
    "language": "python",
    "name": "cell46"
   },
   "outputs": [],
   "source": [
    "st.divider()\n",
    "question = \"왜 우리가 Snowflake 스테이지 오브젝트에 LIKE_A_WINDOW_INTO_AN_S3_BUCKET이라는 이름을 부여했다고 생각하십니까?\"\n",
    "options = [\"아래 보기 중 고르세요...\",\n",
    "           \"A) 짧아서 입력하기 쉬우니까\", \n",
    "           \"B) 스테이지는 창문처럼 쉽게 깨질 수 있기 때문에\", \n",
    "           \"C) 스테이지는 위치처럼 들리며, 이 경우 위치는 우리가 만든 Snowflake 오브젝트가 아니라 S3 버킷이기 때문에\"]                                 \n",
    "\n",
    "user_answer = st.radio(question, options, index=0)\n",
    "if user_answer:\n",
    "    if user_answer == \"아래 보기 중 고르세요...\": \n",
    "        ''\n",
    "    else:\n",
    "        answer = 'f61225ec7b84a3fdde9fe670dd382be4'\n",
    "        response = session.sql(f\"call common_db.resources.quiz_temp('{answer}', '{user_answer}', 'False')\").collect()\n",
    "        if response:\n",
    "            value = response[0]['QUIZ_TEMP']\n",
    "        st.write(value)"
   ]
  },
  {
   "cell_type": "code",
   "execution_count": null,
   "id": "d4c87712-629d-4b11-b67c-1e628d054b58",
   "metadata": {
    "collapsed": false,
    "language": "python",
    "name": "cell47"
   },
   "outputs": [],
   "source": [
    "st.divider()\n",
    "question = \"대문자, 소문자, 혼합된 경우? 그게 중요한가요? 아래 설명 중 Snowflake 대소문자 구분에 대한 올바른 설명은 무엇입니까?\"\n",
    "options = [\"아래 보기 중 고르세요...\",\n",
    "           \"A) Snowflake는 항상 사용자가 대문자로 입력하려고 했다고 가정합니다. 단 큰따옴표로 묶인 경우는 예외입니다.\", \n",
    "           \"B) HAPPY라는 테이블을 생성하면, Snowflake는 실제로 이를 happy라는 이름으로 만듭니다.\", \n",
    "           \"C) \\\"hAppY\\\"라는 테이블을 생성하면, 이를 쿼리할 때마다 이름을 작은따옴표로 묶어야 합니다.\"]                                 \n",
    "\n",
    "user_answer = st.radio(question, options, index=0)\n",
    "if user_answer:\n",
    "    if user_answer == \"아래 보기 중 고르세요...\": \n",
    "        ''\n",
    "    else:\n",
    "        answer = 'daa61f51d82b7039bd0fd9faa61d23eb'\n",
    "        response = session.sql(f\"call common_db.resources.quiz_temp('{answer}', '{user_answer}', 'False')\").collect()\n",
    "        if response:\n",
    "            value = response[0]['QUIZ_TEMP']\n",
    "        st.write(value)"
   ]
  },
  {
   "cell_type": "markdown",
   "id": "a5b2fec6-5051-468f-bbcd-2db4a2d2ba1b",
   "metadata": {
    "collapsed": false,
    "name": "next_steps"
   },
   "source": [
    "## 다음 단계\n",
    "\n",
    "실습 단계를 완료하고 **지식 테스트** 질문에 올바르게 답했다면, Snowflake 강사의 안내에 따라 다음 노트북으로 진행하세요."
   ]
  }
 ]
}