{
 "metadata": {
  "kernelspec": {
   "display_name": "Streamlit Notebook",
   "name": "streamlit"
  },
  "lastEditStatus": {
   "notebookId": "7ccydyy2lhw5523jv2gi",
   "authorId": "2211604274361",
   "authorName": "LOBSTER07",
   "authorEmail": "",
   "sessionId": "8ac9a9a8-b022-4564-a0e0-240b38bbc838",
   "lastEditTime": 1753165920631
  }
 },
 "nbformat_minor": 5,
 "nbformat": 4,
 "cells": [
  {
   "cell_type": "markdown",
   "id": "eefa1530-e246-41bd-b62e-24b23c21d745",
   "metadata": {
    "collapsed": false,
    "name": "lab_3_database_object_hierarchy"
   },
   "source": [
    "# Lab 3: 데이터베이스 오브젝트 계층\n",
    "\n",
    "👉 이 실습에서는 Snowsight의 오브젝트 브라우저를 사용하여 오브젝트를 확인하고 생성하는 방법을 검토하고, Snowflake 오브젝트 정보를 조회하는 `SHOW` 명령어를 살펴보며 데이터를 쿼리하는 것을 시작해 보겠습니다. \n",
    "\n",
    "먼저 이 실습 전반에 걸쳐 사용할 **컨텍스트 정보**를 가져오갰습니다. \n",
    "\n",
    "- **Start** 버튼을 클릭하여 이 노트북을 활성화합니다.\n",
    "\n",
    "- 아래 Python 셀을 실행합니다."
   ]
  },
  {
   "cell_type": "markdown",
   "id": "08f400e4-96a2-48d1-8e1f-463ca9c9ed09",
   "metadata": {
    "collapsed": false,
    "name": "cell2"
   },
   "source": [
    "#### :warning: 이 노트북에서 새 세션이 시작될 때마다, 이후 셀에서 사용할 \"변수\"를 설정하려면 아레 셀을 다시 실행해야 합니다. :warning:"
   ]
  },
  {
   "cell_type": "code",
   "execution_count": null,
   "id": "01502a7f-6944-4c9a-be6d-4bbf56542026",
   "metadata": {
    "collapsed": false,
    "language": "python",
    "name": "cell3"
   },
   "outputs": [],
   "source": [
    "import streamlit as st\n",
    "from snowflake.snowpark.context import get_active_session\n",
    "session = get_active_session()\n",
    "user = session.get_current_user().strip('\"')\n",
    "your_db = user + '_DB'\n",
    "print('Your current CONTEXT information:')\n",
    "print('---------------------------------')\n",
    "print(session)\n",
    "print('Your current USER is ' + user)"
   ]
  },
  {
   "cell_type": "markdown",
   "id": "c7ae2eab-d8e7-41cd-b0dd-84b772c31270",
   "metadata": {
    "collapsed": false,
    "name": "snowsight_object_browsers"
   },
   "source": [
    "## Snowsight 오브젝트 브라우저 📓 \n",
    "\n",
    "Snowsight의 오브젝트 브라우저는 오브젝트를 찾아 선택하는 데 도움을 줍니다. 여기서 \"오브젝트\"란 데이터베이스, 스미카, 테이블, 뷰 등을 포함한 다양한 항목을 의미합니다.\n",
    "\n",
    "아래 예제를 읽고 이러한 Snowsight 구성 요소를 사용하는 방법을 이해해 봅니다.\n",
    "\n",
    "### 1. 왼쪽 메인 메뉴의 데이터베이스 영역에서 오브젝트 브라우저 접근하기\n",
    "\n",
    "1. Snowsight 왼쪽 메인 메뉴에서 **Data**를 클릭합니다.\n",
    "1. **Databases**를 선택합니다.\n",
    "1. 그러면 오브젝트 브라우저(아래 이미지의 중간에)가 표시됩니다.\n",
    "1. 오브젝트를 변경한 후에는 상단의 **refresh** 옵션(주황색 화살표로 표시)을 사용하여 출력을 새로고침합니다.\n",
    "1. 오브젝트 이름을 클릭하면 오른쪽 패널에 오브젝트 세부정보가 표시되고, 오브젝트 브라우저 자체에서 중첩된 오브젝트를 확장할 수 있습니다.\n",
    "\n",
    "![Object browser from the main menu (image)](https://edu-cdev-images.s3.us-west-2.amazonaws.com/ob/ob_object_browser_1.png)\n",
    "\n",
    "### 2. Snowflake Notebook에서 작업할 때 오브젝트 브라우저 접근하기\n",
    "\n",
    "- 노트북 왼쪽 상단에서 **Databases** 탭 링크를 클릭합니다.\n",
    "\n",
    "![Object browser access from notebooks (image)](https://edu-cdev-images.s3.us-west-2.amazonaws.com/ob/ob_object_browser_2.png)\n",
    "\n",
    "- 그러면 Snowflake Notebook과 병렬로 사용할 수 있고 편리하게 탐색 가능한 오브젝트 브라우저가 표시됩니다.\n",
    "- 오브젝트 브라우저에서 오브젝트 이름 위에 마우스 커서를 올리면 대화 상자가 나타나며, 새 탭/창에서 오브젝트 세부정보 페이지를 열 수 있는 링크가 표시됩니다.\n",
    "\n",
    "![Object browser access from notebooks 2 (image)](https://edu-cdev-images.s3.us-west-2.amazonaws.com/ob/ob_object_browser_3.png)"
   ]
  },
  {
   "cell_type": "markdown",
   "id": "3775908f-ca36-4846-8f38-5adca39217f2",
   "metadata": {
    "collapsed": false,
    "name": "lab_exercise_step_by_step"
   },
   "source": [
    "## 실습 연습 Step-By-Step 🥋\n",
    "\n",
    "Snowsight 오브젝트 브라우저를 사용하여 아래 작업을 수행하세요.\n",
    "\n",
    "1. Snowsight를 새 웹 브라우저 탭 또는 창으로 엽니다.(이 Snowflake Notebook은 그대로 열어 둡니다)\n",
    "\n",
    "1. 왼쪽 하단에서 역할을 `(animal)_LEARNER_RL`로 설정했는지 확인하세요.\n",
    "\n",
    "1. 왼쪽 메인 메뉴에서 **Data** > **Databases**를 클릭합니다.\n",
    "\n",
    "1. 오른쪽 상단에 있는 파란색 `+ Database` 버튼을 클릭하여 **New Database** 대화 상자를 엽니다.\n",
    "\n",
    "1. 새 데이터베이스 이름으로 **(animal)_GARDEN_PLANTS**를 입력하고(여기서 `animal`은 할당받은 이름을 의미), **Create** 버튼을 클릭합니다.\n",
    "\n",
    "### 오브젝트 브라우저와 오브젝트 세부사항 페이지를 사용하여 아래 작업을 수행하세요. 🎯 \n",
    "\n",
    "1. **(animal)_GARDEN_PLANTS** 데이터베이스를 생성할 때 자동으로 생성된 `PUBLIC` 스키마를 **Drop** 합니다.\n",
    "\n",
    "1. **(animal)_GARDEN_PLANTS** 데이터베이스에 3개의 새 스키마를 **Create** 합니다. 스키마 이름은 다음과 같습니다: \n",
    "    \n",
    "    - **VEGGIES**\n",
    "    \n",
    "    - **FRUITS**\n",
    "    \n",
    "    - **FLOWERS**\n",
    "\n",
    "💡 **팁:** \"Drop\"은 \"Delete\"와 같은 의미입니다."
   ]
  },
  {
   "cell_type": "markdown",
   "id": "378e4107-5636-4108-8a12-3de794714e56",
   "metadata": {
    "collapsed": false,
    "name": "how_to_run_your_code"
   },
   "source": [
    "## 코드를 실행하는 방법 📓\n",
    "\n",
    "Snowflake는 플랫폼과 상호작용할 수 있는 여러 유틸리티를 제공합니다. 이 과정에서는 Snowsight UI를 활용할 것입니다. Snowsight UI는 다음의 세 가지 주요 인터페이스를 포함합니다:\n",
    "\n",
    "- SQL worksheet\n",
    "\n",
    "- Python worksheet\n",
    "\n",
    "- Notebooks - 셀에서 SQL과 Python 코드를 실행할 수 있는 기능을 제공하며, 이 과정에서 주로 다룰 인터페이스입니다."
   ]
  },
  {
   "cell_type": "markdown",
   "id": "da941b43-8409-4fec-9f28-cbf7777cab26",
   "metadata": {
    "collapsed": false,
    "name": "cell7"
   },
   "source": [
    "### 아래 SQL 셀에서 다음을 시도하세요 🥋\n",
    "\n",
    "`SELECT hello`를 입력합니다.\n",
    "\n",
    "- **hello**를 반드시 작은따옴표로 감싸세요. 이는 화면에서 출력될 문자열이며, `SELECT`는 키워드 명령어입니다.\n",
    "\n",
    "- 구문의 끝에 세미콜론을 추가하세요. 이는 Snowflake에서 실행할 명령문의 끝을 정의합니다."
   ]
  },
  {
   "cell_type": "code",
   "execution_count": null,
   "id": "e474d9fc-496d-4588-bca8-6ecdcd267180",
   "metadata": {
    "language": "sql",
    "name": "cell8"
   },
   "outputs": [],
   "source": "-- enter your code in this cell - rewrite the fragment below\n-- once complete then hit the cell Run button (or cmd/Return) to execute the cell\nselect 'hello';"
  },
  {
   "cell_type": "markdown",
   "id": "015dabd3-7308-4d3a-b643-a87f133b9d1f",
   "metadata": {
    "collapsed": false,
    "name": "cell9"
   },
   "source": [
    "### 이제 아래 SQL 셀에서 다음을 시도하세요 🥋\n",
    "\n",
    "`SELECT hello AS Greeting`를 입력합니다.\n",
    "\n",
    "- `AS`를 사용하여 컬럼 이름을 지정합니다. 이는 Snowflake의 키워드입니다.\n",
    "\n",
    "- **hello**를 반드시 작은따옴표로 감싸세요.\n",
    "\n",
    "- **Greeting**은 반드시 큰따옴표로 감싸세요. 큰따옴표를 사용하면 컬럼 이름의 대소문자가 유지됩니다.\n",
    "\n",
    "- 구문의 끝에 세미콜론을 추가하세요."
   ]
  },
  {
   "cell_type": "code",
   "execution_count": null,
   "id": "984ddfa4-1411-4f9e-8309-9a78af3217ba",
   "metadata": {
    "language": "sql",
    "name": "cell10"
   },
   "outputs": [],
   "source": "-- enter your code in this cell - rewrite the fragment below\n-- once complete then hit the cell Run button (or cmd/Return) to execute the cell\n\nSELECT 'hello' AS \"Greeting\";\n"
  },
  {
   "cell_type": "markdown",
   "id": "2e082b5d-c12d-46d7-a7c1-e2c21de0167d",
   "metadata": {
    "collapsed": false,
    "name": "knowing_what_will_run"
   },
   "source": [
    "## 실행할 내용과 실행된 내용을 확인하기 📓 \n",
    "\n",
    "Python 또는 SQL 셀에서는 셀에 나열된 **모든** 구문은 셀을 실행할 때 하나의 블록으로 실행됩니다. 즉, 여러 구문이 있을 경우 출력은 오류가 없는 한 블록의 마지막 구문과 관련이 있습니다.\n",
    "\n",
    "셀 실행 상태는 셀에 표시되는 색상으로 나타납니다. 이 상태 색상은 셀의 왼쪽 벽과 오른쪽 셀 네비게이션 맵, 두 곳에 표시됩니다.\n",
    "\n",
    "**셀 상태 색상**:\n",
    "\n",
    "- **파란 점** - 셀이 수정되었지만 아직 실행되지 않은 상태입니다.\n",
    "\n",
    "- **빨간색** - 오류가 발생했습니다.\n",
    "\n",
    "- **녹색** - 성공적으로 실행되었습니다.\n",
    "\n",
    "- **움직이는 녹색** - 셀이 현재 실행 중입니다.\n",
    "\n",
    "- **깜빡이는 회색** - 셀이 실행 대기 중인 상태입니다. 이 상태는 여러 셀이 실행되도록 트리거되었을 때 나타납니다.\n",
    "\n",
    "**참고**: Markdown 셀은 어떤 상태도 표시되지 않습니다."
   ]
  },
  {
   "cell_type": "markdown",
   "id": "e1e89e03-ff8e-47f5-bfaa-a996b34b5df3",
   "metadata": {
    "collapsed": false,
    "name": "show_commands"
   },
   "source": [
    "## `SHOW` 명령어\n",
    "\n",
    "### `SHOW DATABASES` 명령어 실행하기 🥋 \n",
    "\n",
    "`SHOW DATABASES` 명령어를 실행하는 것은 오브젝트 브라우저의 첫 번째 수준에 있는 것과 비슷합니다.(하지만 더 많은 세부 정보를 제공하며, 정보를 복사하여 스프레드시트에 붙여넣을수도 있습니다.) \n",
    "\n",
    "아래 SQL 셀에서 이 명령어를 실행하여 `(animal)_LEARNER_RL` 역할로 접근할 수 있는 데이터베이스를 확인하세요:"
   ]
  },
  {
   "cell_type": "code",
   "execution_count": null,
   "id": "f69adcc9-a099-4ca5-a80f-c978e61a4085",
   "metadata": {
    "collapsed": false,
    "language": "sql",
    "name": "cell13"
   },
   "outputs": [],
   "source": [
    "USE ROLE {{user}}_learner_rl;\n",
    "SHOW DATABASES;"
   ]
  },
  {
   "cell_type": "markdown",
   "id": "205f1365-3c2b-4fed-b2c6-944571866cbb",
   "metadata": {
    "collapsed": false,
    "name": "cell14"
   },
   "source": [
    "### `SHOW SCHEMAS` 명령어 실행하기 🥋 \n",
    "\n",
    "`SHOW SCHEMAS` 명령어를 실행하는 것은 오브젝트 브라우저의 두 번째 수준에 있는 것과 비슷합니다. 차이점은 현재 설정된 **컨텍스트**에 따라 어떤 데이터베이스에서 SCHEMAS (스키마)를 가져올지가 결정된다는 점입니다.\n",
    "\n",
    "아래 SQL 코드를 실행한 결과로 나열된 스키마의 이름은 무엇인가요?"
   ]
  },
  {
   "cell_type": "code",
   "execution_count": null,
   "id": "52a8cdb4-241b-4993-ab52-8e39796702c8",
   "metadata": {
    "collapsed": false,
    "language": "sql",
    "name": "cell15"
   },
   "outputs": [],
   "source": [
    "USE DATABASE {{user}}_GARDEN_PLANTS;\n",
    "SHOW SCHEMAS;"
   ]
  },
  {
   "cell_type": "markdown",
   "id": "8cd49bfb-8f77-49b9-9763-acb82173a295",
   "metadata": {
    "collapsed": false,
    "name": "cell16"
   },
   "source": [
    "### 데이터베이스 컨텍스트 변경 후 `SHOW SCHEMAS` 명령어 다시 실행하기 🥋 \n",
    "\n",
    "Snowflake는 TPC-DS 및 TPC-H와 같은 산업 표준 벤치마크 데이터를 포함한 [샘플 데이터 세트](https://docs.snowflake.com/ko/user-guide/sample-data)를 제공합니다. 이는 Snowflake의 SQL 지원 기능을 평가하고 테스트하는 데 사용됩니다. 이러한 샘플 데이터 세트는 SNOWFLAKE_SAMPLE_DATA라는 데이터베이스에 제공되며, 이 데이터베이스는 계정에 공유되어 있습니다. 다음 예제에서는 이 데이터베이스를 사용할 것입니다.\n",
    "\n",
    "컨텍스트를 변경하여 이 데이터베이스를 사용하세요:"
   ]
  },
  {
   "cell_type": "code",
   "execution_count": null,
   "id": "152a24b4-711c-4076-accc-06080ae52e87",
   "metadata": {
    "collapsed": false,
    "language": "sql",
    "name": "cell17"
   },
   "outputs": [],
   "source": [
    "USE DATABASE snowflake_sample_data;"
   ]
  },
  {
   "cell_type": "markdown",
   "id": "1494bedb-73e0-4fdb-a73e-3267c456fd1e",
   "metadata": {
    "collapsed": false,
    "name": "cell18"
   },
   "source": [
    "### `SHOW SCHEMAS` 명령어 다시 실행하기\n",
    "\n",
    "샘플 데이터베이스에 몇 개의 스키마가 포함되어 있나요?"
   ]
  },
  {
   "cell_type": "code",
   "execution_count": null,
   "id": "e839d8a4-cf70-4947-98f1-74ca1853b436",
   "metadata": {
    "collapsed": false,
    "language": "sql",
    "name": "cell19"
   },
   "outputs": [],
   "source": [
    "SHOW SCHEMAS;"
   ]
  },
  {
   "cell_type": "markdown",
   "id": "044d1f5b-df53-4891-9ea8-5149d4b9d472",
   "metadata": {
    "collapsed": false,
    "name": "cell20"
   },
   "source": [
    "### `SHOW TABLES` 명령어 실행하기 🥋 \n",
    "\n",
    "`SHOW` 명령어를 사용하면 계층 구조의 더 아래에 있는 오브젝트를 탐색할 수 있습니다.\n",
    "\n",
    "`SNOWFLAKE_SAMPLE_DATA` 데이터베이스의 스키마중 하나인 `TPCH_SF1` 스키마에 있는 테이블을 살펴보겠습니다."
   ]
  },
  {
   "cell_type": "code",
   "execution_count": null,
   "id": "67fc7f7b-7787-4050-a578-5655a31bc341",
   "metadata": {
    "collapsed": false,
    "language": "sql",
    "name": "cell21"
   },
   "outputs": [],
   "source": [
    "USE SCHEMA snowflake_sample_data.tpch_sf1;\n",
    "SHOW TABLES;"
   ]
  },
  {
   "cell_type": "markdown",
   "id": "62e82d9f-829e-49f1-b60d-700611d4d06f",
   "metadata": {
    "collapsed": false,
    "name": "query_data_in_snowflake"
   },
   "source": [
    "## Snowflake에서 데이터 쿼리하기 📓\n",
    "\n",
    "Snowflake는 표준 `SELECT` 구문을 사용하여 쿼리를 지원합니다. 기본 문법에 대한 자세한 내용은 [여기](https://docs.snowflake.com/ko/sql-reference/constructs)에서 확인할 수 있습니다.\n",
    "\n",
    "이 과정에서는 SQL을 작성하고 이해할 기회를 충분히 가지게 될 것입니다."
   ]
  },
  {
   "cell_type": "markdown",
   "id": "f217a47d-4fde-4cdb-9cc5-668e76107c46",
   "metadata": {
    "collapsed": false,
    "name": "cell23"
   },
   "source": [
    "### 샘플 쿼리 실행하기 🥋\n",
    "\n",
    "이제 아래 샘플 쿼리를 검토하고 실행해 보세요. 이 쿼리는 `TPCH_SF1` 스키마의 샘플 데이터를 활용하여 Snowflake의 SQL 기능을 테스트해볼 수 있게 해줍니다."
   ]
  },
  {
   "cell_type": "code",
   "execution_count": null,
   "id": "27ddb226-0811-4083-853b-9a561a65d1c6",
   "metadata": {
    "collapsed": false,
    "language": "sql",
    "name": "cell24"
   },
   "outputs": [],
   "source": [
    "USE SCHEMA snowflake_sample_data.tpch_sf1;\n",
    "\n",
    "-- retrieve all records from one of the smaller tables\n",
    "SELECT * \n",
    "FROM NATION;"
   ]
  },
  {
   "cell_type": "code",
   "execution_count": null,
   "id": "7e279da1-0181-4a17-ac70-50032adf351f",
   "metadata": {
    "collapsed": false,
    "language": "sql",
    "name": "cell25"
   },
   "outputs": [],
   "source": [
    "-- get a row count of the largest table\n",
    "SELECT COUNT(*) \n",
    "FROM LINEITEM;"
   ]
  },
  {
   "cell_type": "code",
   "execution_count": null,
   "id": "c550b9b3-8da0-4e85-aa7c-889c83eccb20",
   "metadata": {
    "language": "sql",
    "name": "cell26"
   },
   "outputs": [],
   "source": [
    "-- find the earliest and latest dates for orders placed\n",
    "SELECT MIN(O_ORDERDATE),\n",
    "       MAX(O_ORDERDATE) \n",
    "FROM ORDERS;"
   ]
  },
  {
   "cell_type": "code",
   "execution_count": null,
   "id": "6ee636fa-7d35-4596-a533-5f235337d319",
   "metadata": {
    "language": "sql",
    "name": "cell27"
   },
   "outputs": [],
   "source": [
    "-- filter records in the SUPPLIER table using a WHERE clause\n",
    "SELECT * \n",
    "FROM SUPPLIER\n",
    "WHERE s_acctbal > 9995;"
   ]
  },
  {
   "cell_type": "code",
   "execution_count": null,
   "id": "4f91535e-737c-44d2-bba3-39fb5b6652e9",
   "metadata": {
    "language": "sql",
    "name": "cell28"
   },
   "outputs": [],
   "source": [
    "-- use GROUP BY to get a count of customers by their market segment \n",
    "SELECT c_mktsegment, \n",
    "       count(*)\n",
    "FROM customer\n",
    "GROUP BY c_mktsegment\n",
    "ORDER BY c_mktsegment;"
   ]
  },
  {
   "cell_type": "markdown",
   "id": "94c40f7d-190e-4e22-be2d-d59aef9306aa",
   "metadata": {
    "collapsed": false,
    "name": "check_your_work_so_far"
   },
   "source": [
    "## 지금까지의 작업 확인하기 🔎 \n",
    "\n",
    "`(animal)_LEARNER_RL`로 생성한 모든 데이터베이스와 스키마를 볼 수 있는지 확인하세요.\n",
    "\n",
    "- (animal)_GARDEN_PLANTS\n",
    "    - VEGGIES 스키마\n",
    "    - FRUITS 스키마\n",
    "    - FLOWERS 스키마\n",
    "    \n",
    "또한 `(animal)_GARDEN_PLANTS` 데이터베이스에 `PUBLIC` 스키마가 없는지 확인하세요. 이전에 삭제했어야 했던걸을 기억하나요?\n",
    "\n",
    "이 문제가 해결되지 않으면 이후 단계에서 문제가 발생할 수 있습니다."
   ]
  },
  {
   "cell_type": "markdown",
   "id": "013073d0-77e5-44bb-9724-fb9e9b0ba380",
   "metadata": {
    "collapsed": false,
    "name": "test_your_knowledge"
   },
   "source": [
    "## 지식 테스트 :mag_right:\n",
    "\n",
    "아래 Python 셀을 실행하여 Streamlit 기반의 위젯을 표시하고 Snowflake 특징과 기능에 대한 질문에 답하세요. 지금은 이 코드가 무엇을 하는지 이해할 필요가 없습니다. 그냥 코드를 실행하세요.\n",
    "\n",
    "질문에 올바르게 답해야 다음 섹션으로 진행할 수 있습니다."
   ]
  },
  {
   "cell_type": "code",
   "execution_count": null,
   "id": "e2c69587-83d9-4ecb-9d2f-a9061538731b",
   "metadata": {
    "collapsed": false,
    "language": "python",
    "name": "cell31"
   },
   "outputs": [],
   "source": [
    "st.divider()\n",
    "question = \"노트북 셀 상태 표시기에 대한 다음 설명 중 올바른 것은 무엇입니까?\"\n",
    "options = [\"아래 보기 중 고르세요...\",\n",
    "           \"A) 파란 점 - 셀이 수정되지 않았음을 나타냅니다.\", \n",
    "           \"B) 빨간색 - 오류가 발생했습니다.\", \n",
    "           \"C) 녹색 - 셀이 현재 실행 중입니다.\",\n",
    "           \"D) 깜박이는 회색 - 셀이 일시 중지되었으며 사용자 입력을 기다리고 있습니다.\"]\n",
    "\n",
    "user_answer = st.radio(question, options, index=0)\n",
    "if user_answer:\n",
    "    if user_answer == \"아래 보기 중 고르세요...\":\n",
    "        ''\n",
    "    else:\n",
    "        answer = '2a9818100db892e78ce89ebf4537799d'\n",
    "        response = session.sql(f\"call common_db.resources.quiz_temp('{answer}', '{user_answer}', 'False')\").collect()\n",
    "        if response:\n",
    "            value = response[0]['QUIZ_TEMP']\n",
    "        st.write(value)"
   ]
  },
  {
   "cell_type": "code",
   "execution_count": null,
   "id": "99bd4de3-8e00-4f23-b145-022c838274d2",
   "metadata": {
    "collapsed": false,
    "language": "python",
    "name": "cell32"
   },
   "outputs": [],
   "source": [
    "st.divider()\n",
    "question = \"VEGGIES라는 스키마를 생성했지만, 노트북 SQL 셀에서 SHOW SCHEMAS 명령을 실행할 때 해당 스키마가 나타나지 않습니다. 현재 역할이 해당 스키마에 접근할 수 있다고 가정할 때, 아래 보기 중 어떤 것을 선택하면 스키마가 결과에 나타나겠습니까?\"\n",
    "options = [\"아래 보기 중 고르세요...\",\n",
    "           \"A) 기본 역할을 SYSADMIN으로 변경하고 다시 실행합니다.\", \n",
    "           \"B) VEGGIES_WH 웨어하우스가 재개되었는지 확인합니다.(그리고 다시 실행)\",\n",
    "           \"C) USE DATABASE 구문을 사용하여 데이터베이스 컨텍스트를 (animal)_GARDEN_PLANTS로 설정합니다.(그리고 다시 실행)\",            \n",
    "           \"D) show schemas 명령에 \\\"all\\\"을 추가하고 다시 실행합니다.\"]\n",
    "\n",
    "user_answer = st.radio(question, options, index=0)\n",
    "if user_answer:\n",
    "    if user_answer == \"아래 보기 중 고르세요...\":\n",
    "        ''\n",
    "    else:\n",
    "        answer = '746e36ea42179b764dcd839e4826219b'\n",
    "        response = session.sql(f\"call common_db.resources.quiz_temp('{answer}', '{user_answer}', 'False')\").collect()\n",
    "        if response:\n",
    "            value = response[0]['QUIZ_TEMP']\n",
    "        st.write(value)"
   ]
  },
  {
   "cell_type": "markdown",
   "id": "870db7dd-8eed-411c-a399-4b8b3fb49d9b",
   "metadata": {
    "collapsed": false,
    "name": "next_steps"
   },
   "source": [
    "## 다음 단계\n",
    "\n",
    "실습 단계를 완료하고 **지식 테스트** 질문에 올바르게 답했다면, Snowflake 강사의 안내에 따라 다음 노트북으로 진행하세요."
   ]
  }
 ]
}